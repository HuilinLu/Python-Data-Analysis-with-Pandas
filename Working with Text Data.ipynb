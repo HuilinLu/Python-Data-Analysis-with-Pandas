{
 "cells": [
  {
   "cell_type": "code",
   "execution_count": 2,
   "metadata": {
    "collapsed": true
   },
   "outputs": [],
   "source": [
    "import pandas as pd"
   ]
  },
  {
   "cell_type": "markdown",
   "metadata": {},
   "source": [
    "### Intro to the Working with Text Data Module"
   ]
  },
  {
   "cell_type": "code",
   "execution_count": 3,
   "metadata": {
    "collapsed": false
   },
   "outputs": [
    {
     "data": {
      "text/html": [
       "<div>\n",
       "<style scoped>\n",
       "    .dataframe tbody tr th:only-of-type {\n",
       "        vertical-align: middle;\n",
       "    }\n",
       "\n",
       "    .dataframe tbody tr th {\n",
       "        vertical-align: top;\n",
       "    }\n",
       "\n",
       "    .dataframe thead th {\n",
       "        text-align: right;\n",
       "    }\n",
       "</style>\n",
       "<table border=\"1\" class=\"dataframe\">\n",
       "  <thead>\n",
       "    <tr style=\"text-align: right;\">\n",
       "      <th></th>\n",
       "      <th>Name</th>\n",
       "      <th>Position Title</th>\n",
       "      <th>Department</th>\n",
       "      <th>Employee Annual Salary</th>\n",
       "    </tr>\n",
       "  </thead>\n",
       "  <tbody>\n",
       "    <tr>\n",
       "      <th>0</th>\n",
       "      <td>AARON,  ELVIA J</td>\n",
       "      <td>WATER RATE TAKER</td>\n",
       "      <td>WATER MGMNT</td>\n",
       "      <td>$90744.00</td>\n",
       "    </tr>\n",
       "    <tr>\n",
       "      <th>1</th>\n",
       "      <td>AARON,  JEFFERY M</td>\n",
       "      <td>POLICE OFFICER</td>\n",
       "      <td>POLICE</td>\n",
       "      <td>$84450.00</td>\n",
       "    </tr>\n",
       "    <tr>\n",
       "      <th>2</th>\n",
       "      <td>AARON,  KARINA</td>\n",
       "      <td>POLICE OFFICER</td>\n",
       "      <td>POLICE</td>\n",
       "      <td>$84450.00</td>\n",
       "    </tr>\n",
       "    <tr>\n",
       "      <th>3</th>\n",
       "      <td>AARON,  KIMBERLEI R</td>\n",
       "      <td>CHIEF CONTRACT EXPEDITER</td>\n",
       "      <td>GENERAL SERVICES</td>\n",
       "      <td>$89880.00</td>\n",
       "    </tr>\n",
       "    <tr>\n",
       "      <th>4</th>\n",
       "      <td>ABAD JR,  VICENTE M</td>\n",
       "      <td>CIVIL ENGINEER IV</td>\n",
       "      <td>WATER MGMNT</td>\n",
       "      <td>$106836.00</td>\n",
       "    </tr>\n",
       "  </tbody>\n",
       "</table>\n",
       "</div>"
      ],
      "text/plain": [
       "                  Name            Position Title        Department  \\\n",
       "0      AARON,  ELVIA J          WATER RATE TAKER       WATER MGMNT   \n",
       "1    AARON,  JEFFERY M            POLICE OFFICER            POLICE   \n",
       "2       AARON,  KARINA            POLICE OFFICER            POLICE   \n",
       "3  AARON,  KIMBERLEI R  CHIEF CONTRACT EXPEDITER  GENERAL SERVICES   \n",
       "4  ABAD JR,  VICENTE M         CIVIL ENGINEER IV       WATER MGMNT   \n",
       "\n",
       "  Employee Annual Salary  \n",
       "0              $90744.00  \n",
       "1              $84450.00  \n",
       "2              $84450.00  \n",
       "3              $89880.00  \n",
       "4             $106836.00  "
      ]
     },
     "execution_count": 3,
     "metadata": {},
     "output_type": "execute_result"
    }
   ],
   "source": [
    "chicago = pd.read_csv('chicago.csv').dropna(how='all')\n",
    "chicago.head()"
   ]
  },
  {
   "cell_type": "code",
   "execution_count": 7,
   "metadata": {
    "collapsed": false
   },
   "outputs": [
    {
     "name": "stdout",
     "output_type": "stream",
     "text": [
      "<class 'pandas.core.frame.DataFrame'>\n",
      "RangeIndex: 32063 entries, 0 to 32062\n",
      "Data columns (total 4 columns):\n",
      "Name                      32062 non-null object\n",
      "Position Title            32062 non-null object\n",
      "Department                32062 non-null object\n",
      "Employee Annual Salary    32062 non-null object\n",
      "dtypes: object(4)\n",
      "memory usage: 1002.0+ KB\n"
     ]
    }
   ],
   "source": [
    "chicago.get_dtype_counts()\n",
    "chicago.info()"
   ]
  },
  {
   "cell_type": "code",
   "execution_count": 13,
   "metadata": {
    "collapsed": false
   },
   "outputs": [
    {
     "data": {
      "text/plain": [
       "32062"
      ]
     },
     "execution_count": 13,
     "metadata": {},
     "output_type": "execute_result"
    }
   ],
   "source": [
    "## Make the data more efficient and less memory\n",
    "chicago['Department'].nunique()\n",
    "chicago['Department'].count()"
   ]
  },
  {
   "cell_type": "code",
   "execution_count": 4,
   "metadata": {
    "collapsed": true
   },
   "outputs": [],
   "source": [
    "chicago['Department'] = chicago['Department'].astype('category')"
   ]
  },
  {
   "cell_type": "code",
   "execution_count": 15,
   "metadata": {
    "collapsed": false
   },
   "outputs": [
    {
     "name": "stdout",
     "output_type": "stream",
     "text": [
      "<class 'pandas.core.frame.DataFrame'>\n",
      "RangeIndex: 32063 entries, 0 to 32062\n",
      "Data columns (total 4 columns):\n",
      "Name                      32062 non-null object\n",
      "Position Title            32062 non-null object\n",
      "Department                32062 non-null category\n",
      "Employee Annual Salary    32062 non-null object\n",
      "dtypes: category(1), object(3)\n",
      "memory usage: 784.4+ KB\n"
     ]
    }
   ],
   "source": [
    "chicago.info()"
   ]
  },
  {
   "cell_type": "markdown",
   "metadata": {},
   "source": [
    "### Common String Methods - .lower(), .upper(), .title() and .len()"
   ]
  },
  {
   "cell_type": "code",
   "execution_count": 19,
   "metadata": {
    "collapsed": false
   },
   "outputs": [
    {
     "data": {
      "text/plain": [
       "'HELLO WORLD'"
      ]
     },
     "execution_count": 19,
     "metadata": {},
     "output_type": "execute_result"
    }
   ],
   "source": [
    "## review those functions on single string\n",
    "## .lower() function converts all characters in a string to lowercase, .upper() function does the reverse thing\n",
    "'HELLO WORLD'.lower()\n",
    "'hello world'.upper()"
   ]
  },
  {
   "cell_type": "code",
   "execution_count": 24,
   "metadata": {
    "collapsed": false
   },
   "outputs": [
    {
     "data": {
      "text/plain": [
       "'Hello World'"
      ]
     },
     "execution_count": 24,
     "metadata": {},
     "output_type": "execute_result"
    }
   ],
   "source": [
    "## .title() function capitalize the first letter of every word(recognized by spaces)\n",
    "'HELLO WORLD'.title()\n",
    "'hello world'.title()"
   ]
  },
  {
   "cell_type": "code",
   "execution_count": 22,
   "metadata": {
    "collapsed": false
   },
   "outputs": [
    {
     "data": {
      "text/plain": [
       "11"
      ]
     },
     "execution_count": 22,
     "metadata": {},
     "output_type": "execute_result"
    }
   ],
   "source": [
    "## len() Python built-in function which tells us the number of characters including space\n",
    "len('hello world')"
   ]
  },
  {
   "cell_type": "code",
   "execution_count": 38,
   "metadata": {
    "collapsed": false
   },
   "outputs": [
    {
     "data": {
      "text/plain": [
       "0      AARON,  ELVIA J\n",
       "1    AARON,  JEFFERY M\n",
       "2       AARON,  KARINA\n",
       "Name: Name, dtype: object"
      ]
     },
     "execution_count": 38,
     "metadata": {},
     "output_type": "execute_result"
    }
   ],
   "source": [
    "##The syntax of these functions is a little different on series/columns\n",
    "## chicago['Name'].lower()   -- This will give us an error, the syntax has to be .str.upper()/.str.lower()\n",
    "chicago['Name'].str.lower().head(3)\n",
    "chicago['Name'].str.lower().str.upper().head(3)"
   ]
  },
  {
   "cell_type": "code",
   "execution_count": 46,
   "metadata": {
    "collapsed": false
   },
   "outputs": [
    {
     "data": {
      "text/html": [
       "<div>\n",
       "<style scoped>\n",
       "    .dataframe tbody tr th:only-of-type {\n",
       "        vertical-align: middle;\n",
       "    }\n",
       "\n",
       "    .dataframe tbody tr th {\n",
       "        vertical-align: top;\n",
       "    }\n",
       "\n",
       "    .dataframe thead th {\n",
       "        text-align: right;\n",
       "    }\n",
       "</style>\n",
       "<table border=\"1\" class=\"dataframe\">\n",
       "  <thead>\n",
       "    <tr style=\"text-align: right;\">\n",
       "      <th></th>\n",
       "      <th>Name</th>\n",
       "      <th>Position Title</th>\n",
       "      <th>Department</th>\n",
       "      <th>Employee Annual Salary</th>\n",
       "    </tr>\n",
       "  </thead>\n",
       "  <tbody>\n",
       "    <tr>\n",
       "      <th>0</th>\n",
       "      <td>Aaron,  Elvia J</td>\n",
       "      <td>Water Rate Taker</td>\n",
       "      <td>WATER MGMNT</td>\n",
       "      <td>$90744.00</td>\n",
       "    </tr>\n",
       "    <tr>\n",
       "      <th>1</th>\n",
       "      <td>Aaron,  Jeffery M</td>\n",
       "      <td>Police Officer</td>\n",
       "      <td>POLICE</td>\n",
       "      <td>$84450.00</td>\n",
       "    </tr>\n",
       "    <tr>\n",
       "      <th>2</th>\n",
       "      <td>Aaron,  Karina</td>\n",
       "      <td>Police Officer</td>\n",
       "      <td>POLICE</td>\n",
       "      <td>$84450.00</td>\n",
       "    </tr>\n",
       "    <tr>\n",
       "      <th>3</th>\n",
       "      <td>Aaron,  Kimberlei R</td>\n",
       "      <td>Chief Contract Expediter</td>\n",
       "      <td>GENERAL SERVICES</td>\n",
       "      <td>$89880.00</td>\n",
       "    </tr>\n",
       "    <tr>\n",
       "      <th>4</th>\n",
       "      <td>Abad Jr,  Vicente M</td>\n",
       "      <td>Civil Engineer Iv</td>\n",
       "      <td>WATER MGMNT</td>\n",
       "      <td>$106836.00</td>\n",
       "    </tr>\n",
       "  </tbody>\n",
       "</table>\n",
       "</div>"
      ],
      "text/plain": [
       "                  Name            Position Title        Department  \\\n",
       "0      Aaron,  Elvia J          Water Rate Taker       WATER MGMNT   \n",
       "1    Aaron,  Jeffery M            Police Officer            POLICE   \n",
       "2       Aaron,  Karina            Police Officer            POLICE   \n",
       "3  Aaron,  Kimberlei R  Chief Contract Expediter  GENERAL SERVICES   \n",
       "4  Abad Jr,  Vicente M         Civil Engineer Iv       WATER MGMNT   \n",
       "\n",
       "  Employee Annual Salary  \n",
       "0              $90744.00  \n",
       "1              $84450.00  \n",
       "2              $84450.00  \n",
       "3              $89880.00  \n",
       "4             $106836.00  "
      ]
     },
     "execution_count": 46,
     "metadata": {},
     "output_type": "execute_result"
    }
   ],
   "source": [
    "chicago['Name'] = chicago['Name'].str.title()\n",
    "chicago['Position Title'] = chicago['Position Title'].str.title()\n",
    "chicago.head(5)"
   ]
  },
  {
   "cell_type": "code",
   "execution_count": 44,
   "metadata": {
    "collapsed": false
   },
   "outputs": [
    {
     "data": {
      "text/plain": [
       "0    11.0\n",
       "1     6.0\n",
       "2     6.0\n",
       "3    16.0\n",
       "4    11.0\n",
       "Name: Department, dtype: float64"
      ]
     },
     "execution_count": 44,
     "metadata": {},
     "output_type": "execute_result"
    }
   ],
   "source": [
    "len(chicago['Department'])   \n",
    "## This will give me the number of records of this series in DataFrame including Null values, 32063 records\n",
    "\n",
    "chicago['Department'].str.len().head(5)  \n",
    "## This gives me the number of records in each category, but all rows will be shown"
   ]
  },
  {
   "cell_type": "markdown",
   "metadata": {},
   "source": [
    "### The .str.replace() Method"
   ]
  },
  {
   "cell_type": "code",
   "execution_count": 49,
   "metadata": {
    "collapsed": false
   },
   "outputs": [
    {
     "data": {
      "text/plain": [
       "'He!!o wor!d'"
      ]
     },
     "execution_count": 49,
     "metadata": {},
     "output_type": "execute_result"
    }
   ],
   "source": [
    "## Frist argument in .replace is going to look for, second argument is what we want to see in string\n",
    "'Hello world'.replace(\"l\", '!')"
   ]
  },
  {
   "cell_type": "code",
   "execution_count": 54,
   "metadata": {
    "collapsed": false
   },
   "outputs": [
    {
     "data": {
      "text/html": [
       "<div>\n",
       "<style scoped>\n",
       "    .dataframe tbody tr th:only-of-type {\n",
       "        vertical-align: middle;\n",
       "    }\n",
       "\n",
       "    .dataframe tbody tr th {\n",
       "        vertical-align: top;\n",
       "    }\n",
       "\n",
       "    .dataframe thead th {\n",
       "        text-align: right;\n",
       "    }\n",
       "</style>\n",
       "<table border=\"1\" class=\"dataframe\">\n",
       "  <thead>\n",
       "    <tr style=\"text-align: right;\">\n",
       "      <th></th>\n",
       "      <th>Name</th>\n",
       "      <th>Position Title</th>\n",
       "      <th>Department</th>\n",
       "      <th>Employee Annual Salary</th>\n",
       "    </tr>\n",
       "  </thead>\n",
       "  <tbody>\n",
       "    <tr>\n",
       "      <th>32061</th>\n",
       "      <td>ZYSKOWSKI,  DARIUSZ</td>\n",
       "      <td>CHIEF DATA BASE ANALYST</td>\n",
       "      <td>DoIT</td>\n",
       "      <td>$113664.00</td>\n",
       "    </tr>\n",
       "  </tbody>\n",
       "</table>\n",
       "</div>"
      ],
      "text/plain": [
       "                      Name           Position Title Department  \\\n",
       "32061  ZYSKOWSKI,  DARIUSZ  CHIEF DATA BASE ANALYST       DoIT   \n",
       "\n",
       "      Employee Annual Salary  \n",
       "32061             $113664.00  "
      ]
     },
     "execution_count": 54,
     "metadata": {},
     "output_type": "execute_result"
    }
   ],
   "source": [
    "chicago.dropna(how='all', inplace = True)\n",
    "chicago.tail(1)"
   ]
  },
  {
   "cell_type": "code",
   "execution_count": 55,
   "metadata": {
    "collapsed": true
   },
   "outputs": [],
   "source": [
    "chicago['Department'] = chicago['Department'].str.replace(\"MGMNT\", \"MANAGEMENT\")"
   ]
  },
  {
   "cell_type": "code",
   "execution_count": 57,
   "metadata": {
    "collapsed": false
   },
   "outputs": [],
   "source": [
    "chicago['Employee Annual Salary'] = chicago['Employee Annual Salary'].str.replace(\"$\", \"\").astype(\"float\")"
   ]
  },
  {
   "cell_type": "code",
   "execution_count": 59,
   "metadata": {
    "collapsed": false
   },
   "outputs": [
    {
     "data": {
      "text/plain": [
       "8184     300000.0\n",
       "7954     216210.0\n",
       "25532    202728.0\n",
       "8924     197736.0\n",
       "8042     197724.0\n",
       "19208    195000.0\n",
       "3706     187680.0\n",
       "18556    187680.0\n",
       "29466    187680.0\n",
       "13754    185364.0\n",
       "Name: Employee Annual Salary, dtype: float64"
      ]
     },
     "execution_count": 59,
     "metadata": {},
     "output_type": "execute_result"
    }
   ],
   "source": [
    "chicago['Employee Annual Salary'].mean()\n",
    "chicago['Employee Annual Salary'].nlargest(10)\n"
   ]
  },
  {
   "cell_type": "markdown",
   "metadata": {},
   "source": [
    "### Filtering with String Methods"
   ]
  },
  {
   "cell_type": "code",
   "execution_count": 66,
   "metadata": {
    "collapsed": true
   },
   "outputs": [
    {
     "data": {
      "text/html": [
       "<div>\n",
       "<style scoped>\n",
       "    .dataframe tbody tr th:only-of-type {\n",
       "        vertical-align: middle;\n",
       "    }\n",
       "\n",
       "    .dataframe tbody tr th {\n",
       "        vertical-align: top;\n",
       "    }\n",
       "\n",
       "    .dataframe thead th {\n",
       "        text-align: right;\n",
       "    }\n",
       "</style>\n",
       "<table border=\"1\" class=\"dataframe\">\n",
       "  <thead>\n",
       "    <tr style=\"text-align: right;\">\n",
       "      <th></th>\n",
       "      <th>Name</th>\n",
       "      <th>Position Title</th>\n",
       "      <th>Department</th>\n",
       "      <th>Employee Annual Salary</th>\n",
       "    </tr>\n",
       "  </thead>\n",
       "  <tbody>\n",
       "    <tr>\n",
       "      <th>0</th>\n",
       "      <td>AARON,  ELVIA J</td>\n",
       "      <td>WATER RATE TAKER</td>\n",
       "      <td>WATER MGMNT</td>\n",
       "      <td>$90744.00</td>\n",
       "    </tr>\n",
       "    <tr>\n",
       "      <th>554</th>\n",
       "      <td>ALUISE,  VINCENT G</td>\n",
       "      <td>FOREMAN OF WATER PIPE CONSTRUCTION</td>\n",
       "      <td>WATER MGMNT</td>\n",
       "      <td>$102440.00</td>\n",
       "    </tr>\n",
       "    <tr>\n",
       "      <th>671</th>\n",
       "      <td>ANDER,  PERRY A</td>\n",
       "      <td>WATER CHEMIST II</td>\n",
       "      <td>WATER MGMNT</td>\n",
       "      <td>$82044.00</td>\n",
       "    </tr>\n",
       "    <tr>\n",
       "      <th>685</th>\n",
       "      <td>ANDERSON,  ANDREW J</td>\n",
       "      <td>DISTRICT SUPERINTENDENT OF WATER DISTRIBUTION</td>\n",
       "      <td>WATER MGMNT</td>\n",
       "      <td>$109272.00</td>\n",
       "    </tr>\n",
       "    <tr>\n",
       "      <th>702</th>\n",
       "      <td>ANDERSON,  DONALD</td>\n",
       "      <td>FOREMAN OF WATER PIPE CONSTRUCTION</td>\n",
       "      <td>WATER MGMNT</td>\n",
       "      <td>$102440.00</td>\n",
       "    </tr>\n",
       "    <tr>\n",
       "      <th>1054</th>\n",
       "      <td>ASHLEY,  KARMA T</td>\n",
       "      <td>WATER CHEMIST II</td>\n",
       "      <td>WATER MGMNT</td>\n",
       "      <td>$82044.00</td>\n",
       "    </tr>\n",
       "    <tr>\n",
       "      <th>1079</th>\n",
       "      <td>ATKINS,  JOANNA M</td>\n",
       "      <td>WATER CHEMIST II</td>\n",
       "      <td>WATER MGMNT</td>\n",
       "      <td>$82044.00</td>\n",
       "    </tr>\n",
       "    <tr>\n",
       "      <th>1181</th>\n",
       "      <td>AZEEM,  MOHAMMED A</td>\n",
       "      <td>WATER CHEMIST II</td>\n",
       "      <td>WATER MGMNT</td>\n",
       "      <td>$53172.00</td>\n",
       "    </tr>\n",
       "    <tr>\n",
       "      <th>1285</th>\n",
       "      <td>BAJIC,  JOHN A</td>\n",
       "      <td>WATER METER MACHINIST</td>\n",
       "      <td>WATER MGMNT</td>\n",
       "      <td>$82576.00</td>\n",
       "    </tr>\n",
       "    <tr>\n",
       "      <th>2400</th>\n",
       "      <td>BOLTON,  BRIAN E</td>\n",
       "      <td>WATER RATE TAKER</td>\n",
       "      <td>WATER MGMNT</td>\n",
       "      <td>$78948.00</td>\n",
       "    </tr>\n",
       "    <tr>\n",
       "      <th>2586</th>\n",
       "      <td>BOYCE,  ADNER L</td>\n",
       "      <td>WATER CHEMIST II</td>\n",
       "      <td>WATER MGMNT</td>\n",
       "      <td>$82044.00</td>\n",
       "    </tr>\n",
       "    <tr>\n",
       "      <th>2745</th>\n",
       "      <td>BRANDYS,  DANIEL</td>\n",
       "      <td>WATER CHEMIST II</td>\n",
       "      <td>WATER MGMNT</td>\n",
       "      <td>$53172.00</td>\n",
       "    </tr>\n",
       "    <tr>\n",
       "      <th>3143</th>\n",
       "      <td>BROWN,  SHARON L</td>\n",
       "      <td>WATER RATE TAKER</td>\n",
       "      <td>WATER MGMNT</td>\n",
       "      <td>$82728.00</td>\n",
       "    </tr>\n",
       "    <tr>\n",
       "      <th>3246</th>\n",
       "      <td>BUCHANAN,  ANTHONY L</td>\n",
       "      <td>WATER CHEMIST II</td>\n",
       "      <td>WATER MGMNT</td>\n",
       "      <td>$66780.00</td>\n",
       "    </tr>\n",
       "    <tr>\n",
       "      <th>3456</th>\n",
       "      <td>BURT,  CARL S</td>\n",
       "      <td>WATER RATE TAKER</td>\n",
       "      <td>WATER MGMNT</td>\n",
       "      <td>$90744.00</td>\n",
       "    </tr>\n",
       "    <tr>\n",
       "      <th>3626</th>\n",
       "      <td>CAGE,  OPHELIA</td>\n",
       "      <td>WATER RATE TAKER</td>\n",
       "      <td>WATER MGMNT</td>\n",
       "      <td>$90744.00</td>\n",
       "    </tr>\n",
       "    <tr>\n",
       "      <th>3663</th>\n",
       "      <td>CALDERONE,  MICHAEL P</td>\n",
       "      <td>FOREMAN OF WATER PIPE CONSTRUCTION</td>\n",
       "      <td>WATER MGMNT</td>\n",
       "      <td>$102440.00</td>\n",
       "    </tr>\n",
       "    <tr>\n",
       "      <th>4889</th>\n",
       "      <td>CLARK,  MARK A</td>\n",
       "      <td>WATER METER MACHINIST</td>\n",
       "      <td>WATER MGMNT</td>\n",
       "      <td>$82576.00</td>\n",
       "    </tr>\n",
       "    <tr>\n",
       "      <th>5506</th>\n",
       "      <td>COOPER JR,  EDDIE</td>\n",
       "      <td>WATER CHEMIST II</td>\n",
       "      <td>WATER MGMNT</td>\n",
       "      <td>$82044.00</td>\n",
       "    </tr>\n",
       "    <tr>\n",
       "      <th>6337</th>\n",
       "      <td>DAVENPORT,  CLARENCE</td>\n",
       "      <td>WATER METER MACHINIST</td>\n",
       "      <td>WATER MGMNT</td>\n",
       "      <td>$82576.00</td>\n",
       "    </tr>\n",
       "    <tr>\n",
       "      <th>6421</th>\n",
       "      <td>DAVIS III,  WALLACE</td>\n",
       "      <td>GEN SUPT OF WATER MANAGEMENT</td>\n",
       "      <td>WATER MGMNT</td>\n",
       "      <td>$119208.00</td>\n",
       "    </tr>\n",
       "    <tr>\n",
       "      <th>6564</th>\n",
       "      <td>DECALUWE,  STANLEY J</td>\n",
       "      <td>FOREMAN OF WATER PIPE CONSTRUCTION</td>\n",
       "      <td>WATER MGMNT</td>\n",
       "      <td>$102440.00</td>\n",
       "    </tr>\n",
       "    <tr>\n",
       "      <th>6954</th>\n",
       "      <td>DIAZ,  OSCAR A</td>\n",
       "      <td>WATER RATE TAKER</td>\n",
       "      <td>WATER MGMNT</td>\n",
       "      <td>$90744.00</td>\n",
       "    </tr>\n",
       "    <tr>\n",
       "      <th>7356</th>\n",
       "      <td>DOWDY,  TIMOTHY J</td>\n",
       "      <td>FOREMAN OF WATER PIPE CONSTRUCTION</td>\n",
       "      <td>WATER MGMNT</td>\n",
       "      <td>$102440.00</td>\n",
       "    </tr>\n",
       "    <tr>\n",
       "      <th>7463</th>\n",
       "      <td>DRIVER,  CLAUDE A</td>\n",
       "      <td>FOREMAN OF WATER PIPE CONSTRUCTION</td>\n",
       "      <td>WATER MGMNT</td>\n",
       "      <td>$102440.00</td>\n",
       "    </tr>\n",
       "    <tr>\n",
       "      <th>7641</th>\n",
       "      <td>DURANT,  PATRICIA B</td>\n",
       "      <td>WATER RATE TAKER</td>\n",
       "      <td>WATER MGMNT</td>\n",
       "      <td>$90744.00</td>\n",
       "    </tr>\n",
       "    <tr>\n",
       "      <th>7650</th>\n",
       "      <td>DURHAM,  PATRICK L</td>\n",
       "      <td>WATER METER MACHINIST</td>\n",
       "      <td>WATER MGMNT</td>\n",
       "      <td>$82576.00</td>\n",
       "    </tr>\n",
       "    <tr>\n",
       "      <th>8092</th>\n",
       "      <td>ESPINOSA,  RODOLFO</td>\n",
       "      <td>WATER RATE TAKER</td>\n",
       "      <td>WATER MGMNT</td>\n",
       "      <td>$78948.00</td>\n",
       "    </tr>\n",
       "    <tr>\n",
       "      <th>8660</th>\n",
       "      <td>FITZPATRICK,  CHARLES W</td>\n",
       "      <td>FOREMAN OF WATER PIPE CONSTRUCTION</td>\n",
       "      <td>WATER MGMNT</td>\n",
       "      <td>$102440.00</td>\n",
       "    </tr>\n",
       "    <tr>\n",
       "      <th>9325</th>\n",
       "      <td>GAITHER,  RASHEDA K</td>\n",
       "      <td>CHIEF WATER CHEMIST</td>\n",
       "      <td>WATER MGMNT</td>\n",
       "      <td>$96840.00</td>\n",
       "    </tr>\n",
       "    <tr>\n",
       "      <th>...</th>\n",
       "      <td>...</td>\n",
       "      <td>...</td>\n",
       "      <td>...</td>\n",
       "      <td>...</td>\n",
       "    </tr>\n",
       "    <tr>\n",
       "      <th>23187</th>\n",
       "      <td>QUINTANILLA,  EDWIN</td>\n",
       "      <td>WATER CHEMIST II</td>\n",
       "      <td>WATER MGMNT</td>\n",
       "      <td>$70152.00</td>\n",
       "    </tr>\n",
       "    <tr>\n",
       "      <th>24003</th>\n",
       "      <td>RIOS,  FRANCISCO</td>\n",
       "      <td>WATER RATE TAKER</td>\n",
       "      <td>WATER MGMNT</td>\n",
       "      <td>$78948.00</td>\n",
       "    </tr>\n",
       "    <tr>\n",
       "      <th>24178</th>\n",
       "      <td>ROBERTS,  AKILAH</td>\n",
       "      <td>WATER CHEMIST II</td>\n",
       "      <td>WATER MGMNT</td>\n",
       "      <td>$66780.00</td>\n",
       "    </tr>\n",
       "    <tr>\n",
       "      <th>24266</th>\n",
       "      <td>ROBINSON,  JERRY</td>\n",
       "      <td>WATER METER ASSESSOR</td>\n",
       "      <td>WATER MGMNT</td>\n",
       "      <td>$90744.00</td>\n",
       "    </tr>\n",
       "    <tr>\n",
       "      <th>24422</th>\n",
       "      <td>RODRIGUEZ,  EDWARD L</td>\n",
       "      <td>WATER METER ASSESSOR</td>\n",
       "      <td>WATER MGMNT</td>\n",
       "      <td>$78948.00</td>\n",
       "    </tr>\n",
       "    <tr>\n",
       "      <th>24501</th>\n",
       "      <td>RODRIGUEZ,  MARCO A</td>\n",
       "      <td>WATER RATE TAKER</td>\n",
       "      <td>WATER MGMNT</td>\n",
       "      <td>$90744.00</td>\n",
       "    </tr>\n",
       "    <tr>\n",
       "      <th>24945</th>\n",
       "      <td>RUDMIN,  KENNETH D</td>\n",
       "      <td>WATER QUALITY INSPECTOR I/C</td>\n",
       "      <td>WATER MGMNT</td>\n",
       "      <td>$65172.00</td>\n",
       "    </tr>\n",
       "    <tr>\n",
       "      <th>25055</th>\n",
       "      <td>RUSSNAK,  THOMAS W</td>\n",
       "      <td>WATER METER ASSESSOR</td>\n",
       "      <td>WATER MGMNT</td>\n",
       "      <td>$90744.00</td>\n",
       "    </tr>\n",
       "    <tr>\n",
       "      <th>25233</th>\n",
       "      <td>SALEH,  HASSEN</td>\n",
       "      <td>DIR OF WATER PURIFICATION LABORATORIES</td>\n",
       "      <td>WATER MGMNT</td>\n",
       "      <td>$109008.00</td>\n",
       "    </tr>\n",
       "    <tr>\n",
       "      <th>25260</th>\n",
       "      <td>SALINAS,  EDUARDO S</td>\n",
       "      <td>ENGINEER OF WATER PURIFICATION</td>\n",
       "      <td>WATER MGMNT</td>\n",
       "      <td>$118656.00</td>\n",
       "    </tr>\n",
       "    <tr>\n",
       "      <th>26372</th>\n",
       "      <td>SIDDIQUI,  ABDURRAZZAQ</td>\n",
       "      <td>WATER CHEMIST III</td>\n",
       "      <td>WATER MGMNT</td>\n",
       "      <td>$89676.00</td>\n",
       "    </tr>\n",
       "    <tr>\n",
       "      <th>26519</th>\n",
       "      <td>SIMS,  DEMETRIUS</td>\n",
       "      <td>WATER RATE TAKER</td>\n",
       "      <td>WATER MGMNT</td>\n",
       "      <td>$90744.00</td>\n",
       "    </tr>\n",
       "    <tr>\n",
       "      <th>26625</th>\n",
       "      <td>SKOWRON,  JOHN</td>\n",
       "      <td>WATER RATE TAKER</td>\n",
       "      <td>WATER MGMNT</td>\n",
       "      <td>$90744.00</td>\n",
       "    </tr>\n",
       "    <tr>\n",
       "      <th>26871</th>\n",
       "      <td>SMITH,  NANCY A</td>\n",
       "      <td>WATER RATE TAKER</td>\n",
       "      <td>WATER MGMNT</td>\n",
       "      <td>$90744.00</td>\n",
       "    </tr>\n",
       "    <tr>\n",
       "      <th>27015</th>\n",
       "      <td>SOJKA,  JEFFREY A</td>\n",
       "      <td>WATER METER ASSESSOR</td>\n",
       "      <td>WATER MGMNT</td>\n",
       "      <td>$90744.00</td>\n",
       "    </tr>\n",
       "    <tr>\n",
       "      <th>27368</th>\n",
       "      <td>STANG,  CHRISTOPHER</td>\n",
       "      <td>FOREMAN OF WATER PIPE CONSTRUCTION</td>\n",
       "      <td>WATER MGMNT</td>\n",
       "      <td>$102440.00</td>\n",
       "    </tr>\n",
       "    <tr>\n",
       "      <th>27537</th>\n",
       "      <td>STEVENSON JR,  WALTER</td>\n",
       "      <td>FOREMAN OF WATER PIPE CONSTRUCTION</td>\n",
       "      <td>WATER MGMNT</td>\n",
       "      <td>$102440.00</td>\n",
       "    </tr>\n",
       "    <tr>\n",
       "      <th>27635</th>\n",
       "      <td>STOKES,  CAROLYN M</td>\n",
       "      <td>WATER CHEMIST II</td>\n",
       "      <td>WATER MGMNT</td>\n",
       "      <td>$82044.00</td>\n",
       "    </tr>\n",
       "    <tr>\n",
       "      <th>27755</th>\n",
       "      <td>STROUD JR,  JAMES E</td>\n",
       "      <td>WATER METER MACHINIST</td>\n",
       "      <td>WATER MGMNT</td>\n",
       "      <td>$82576.00</td>\n",
       "    </tr>\n",
       "    <tr>\n",
       "      <th>28185</th>\n",
       "      <td>TATE,  GARY</td>\n",
       "      <td>WATER RATE TAKER</td>\n",
       "      <td>WATER MGMNT</td>\n",
       "      <td>$82728.00</td>\n",
       "    </tr>\n",
       "    <tr>\n",
       "      <th>28443</th>\n",
       "      <td>THOMAS,  HOWARD</td>\n",
       "      <td>WATER RATE TAKER</td>\n",
       "      <td>WATER MGMNT</td>\n",
       "      <td>$78948.00</td>\n",
       "    </tr>\n",
       "    <tr>\n",
       "      <th>28574</th>\n",
       "      <td>THREATT,  DENISE R</td>\n",
       "      <td>WATER QUALITY INSPECTOR</td>\n",
       "      <td>WATER MGMNT</td>\n",
       "      <td>$62004.00</td>\n",
       "    </tr>\n",
       "    <tr>\n",
       "      <th>28602</th>\n",
       "      <td>TIGNOR,  DARRYL B</td>\n",
       "      <td>WATER RATE TAKER</td>\n",
       "      <td>WATER MGMNT</td>\n",
       "      <td>$78948.00</td>\n",
       "    </tr>\n",
       "    <tr>\n",
       "      <th>28955</th>\n",
       "      <td>TRAVIS COOK,  LESLIE R</td>\n",
       "      <td>WATER RATE TAKER</td>\n",
       "      <td>WATER MGMNT</td>\n",
       "      <td>$78948.00</td>\n",
       "    </tr>\n",
       "    <tr>\n",
       "      <th>29584</th>\n",
       "      <td>VELAZQUEZ,  JOHN</td>\n",
       "      <td>WATER RATE TAKER</td>\n",
       "      <td>WATER MGMNT</td>\n",
       "      <td>$78948.00</td>\n",
       "    </tr>\n",
       "    <tr>\n",
       "      <th>29669</th>\n",
       "      <td>VERMA,  ANUPAM</td>\n",
       "      <td>MANAGING ENGINEER - WATER MANAGEMENT</td>\n",
       "      <td>WATER MGMNT</td>\n",
       "      <td>$111192.00</td>\n",
       "    </tr>\n",
       "    <tr>\n",
       "      <th>30239</th>\n",
       "      <td>WASHINGTON,  JOSEPH</td>\n",
       "      <td>WATER CHEMIST III</td>\n",
       "      <td>WATER MGMNT</td>\n",
       "      <td>$89676.00</td>\n",
       "    </tr>\n",
       "    <tr>\n",
       "      <th>30544</th>\n",
       "      <td>WEST,  THOMAS R</td>\n",
       "      <td>GEN SUPT OF WATER MANAGEMENT</td>\n",
       "      <td>WATER MGMNT</td>\n",
       "      <td>$115704.00</td>\n",
       "    </tr>\n",
       "    <tr>\n",
       "      <th>30991</th>\n",
       "      <td>WILLIAMS,  MATTHEW</td>\n",
       "      <td>FOREMAN OF WATER PIPE CONSTRUCTION</td>\n",
       "      <td>WATER MGMNT</td>\n",
       "      <td>$102440.00</td>\n",
       "    </tr>\n",
       "    <tr>\n",
       "      <th>31405</th>\n",
       "      <td>WOODRIDGE,  ROBERT L</td>\n",
       "      <td>FOREMAN OF WATER PIPE CONSTRUCTION</td>\n",
       "      <td>WATER MGMNT</td>\n",
       "      <td>$102440.00</td>\n",
       "    </tr>\n",
       "  </tbody>\n",
       "</table>\n",
       "<p>111 rows × 4 columns</p>\n",
       "</div>"
      ],
      "text/plain": [
       "                          Name                                 Position Title  \\\n",
       "0              AARON,  ELVIA J                               WATER RATE TAKER   \n",
       "554         ALUISE,  VINCENT G             FOREMAN OF WATER PIPE CONSTRUCTION   \n",
       "671            ANDER,  PERRY A                               WATER CHEMIST II   \n",
       "685        ANDERSON,  ANDREW J  DISTRICT SUPERINTENDENT OF WATER DISTRIBUTION   \n",
       "702          ANDERSON,  DONALD             FOREMAN OF WATER PIPE CONSTRUCTION   \n",
       "1054          ASHLEY,  KARMA T                               WATER CHEMIST II   \n",
       "1079         ATKINS,  JOANNA M                               WATER CHEMIST II   \n",
       "1181        AZEEM,  MOHAMMED A                               WATER CHEMIST II   \n",
       "1285            BAJIC,  JOHN A                          WATER METER MACHINIST   \n",
       "2400          BOLTON,  BRIAN E                               WATER RATE TAKER   \n",
       "2586           BOYCE,  ADNER L                               WATER CHEMIST II   \n",
       "2745          BRANDYS,  DANIEL                               WATER CHEMIST II   \n",
       "3143          BROWN,  SHARON L                               WATER RATE TAKER   \n",
       "3246      BUCHANAN,  ANTHONY L                               WATER CHEMIST II   \n",
       "3456             BURT,  CARL S                               WATER RATE TAKER   \n",
       "3626            CAGE,  OPHELIA                               WATER RATE TAKER   \n",
       "3663     CALDERONE,  MICHAEL P             FOREMAN OF WATER PIPE CONSTRUCTION   \n",
       "4889            CLARK,  MARK A                          WATER METER MACHINIST   \n",
       "5506         COOPER JR,  EDDIE                               WATER CHEMIST II   \n",
       "6337      DAVENPORT,  CLARENCE                          WATER METER MACHINIST   \n",
       "6421       DAVIS III,  WALLACE                   GEN SUPT OF WATER MANAGEMENT   \n",
       "6564      DECALUWE,  STANLEY J             FOREMAN OF WATER PIPE CONSTRUCTION   \n",
       "6954            DIAZ,  OSCAR A                               WATER RATE TAKER   \n",
       "7356         DOWDY,  TIMOTHY J             FOREMAN OF WATER PIPE CONSTRUCTION   \n",
       "7463         DRIVER,  CLAUDE A             FOREMAN OF WATER PIPE CONSTRUCTION   \n",
       "7641       DURANT,  PATRICIA B                               WATER RATE TAKER   \n",
       "7650        DURHAM,  PATRICK L                          WATER METER MACHINIST   \n",
       "8092        ESPINOSA,  RODOLFO                               WATER RATE TAKER   \n",
       "8660   FITZPATRICK,  CHARLES W             FOREMAN OF WATER PIPE CONSTRUCTION   \n",
       "9325       GAITHER,  RASHEDA K                            CHIEF WATER CHEMIST   \n",
       "...                        ...                                            ...   \n",
       "23187      QUINTANILLA,  EDWIN                               WATER CHEMIST II   \n",
       "24003         RIOS,  FRANCISCO                               WATER RATE TAKER   \n",
       "24178         ROBERTS,  AKILAH                               WATER CHEMIST II   \n",
       "24266         ROBINSON,  JERRY                           WATER METER ASSESSOR   \n",
       "24422     RODRIGUEZ,  EDWARD L                           WATER METER ASSESSOR   \n",
       "24501      RODRIGUEZ,  MARCO A                               WATER RATE TAKER   \n",
       "24945       RUDMIN,  KENNETH D                    WATER QUALITY INSPECTOR I/C   \n",
       "25055       RUSSNAK,  THOMAS W                           WATER METER ASSESSOR   \n",
       "25233           SALEH,  HASSEN         DIR OF WATER PURIFICATION LABORATORIES   \n",
       "25260      SALINAS,  EDUARDO S                 ENGINEER OF WATER PURIFICATION   \n",
       "26372   SIDDIQUI,  ABDURRAZZAQ                              WATER CHEMIST III   \n",
       "26519         SIMS,  DEMETRIUS                               WATER RATE TAKER   \n",
       "26625           SKOWRON,  JOHN                               WATER RATE TAKER   \n",
       "26871          SMITH,  NANCY A                               WATER RATE TAKER   \n",
       "27015        SOJKA,  JEFFREY A                           WATER METER ASSESSOR   \n",
       "27368      STANG,  CHRISTOPHER             FOREMAN OF WATER PIPE CONSTRUCTION   \n",
       "27537    STEVENSON JR,  WALTER             FOREMAN OF WATER PIPE CONSTRUCTION   \n",
       "27635       STOKES,  CAROLYN M                               WATER CHEMIST II   \n",
       "27755      STROUD JR,  JAMES E                          WATER METER MACHINIST   \n",
       "28185              TATE,  GARY                               WATER RATE TAKER   \n",
       "28443          THOMAS,  HOWARD                               WATER RATE TAKER   \n",
       "28574       THREATT,  DENISE R                        WATER QUALITY INSPECTOR   \n",
       "28602        TIGNOR,  DARRYL B                               WATER RATE TAKER   \n",
       "28955   TRAVIS COOK,  LESLIE R                               WATER RATE TAKER   \n",
       "29584         VELAZQUEZ,  JOHN                               WATER RATE TAKER   \n",
       "29669           VERMA,  ANUPAM           MANAGING ENGINEER - WATER MANAGEMENT   \n",
       "30239      WASHINGTON,  JOSEPH                              WATER CHEMIST III   \n",
       "30544          WEST,  THOMAS R                   GEN SUPT OF WATER MANAGEMENT   \n",
       "30991       WILLIAMS,  MATTHEW             FOREMAN OF WATER PIPE CONSTRUCTION   \n",
       "31405     WOODRIDGE,  ROBERT L             FOREMAN OF WATER PIPE CONSTRUCTION   \n",
       "\n",
       "        Department Employee Annual Salary  \n",
       "0      WATER MGMNT              $90744.00  \n",
       "554    WATER MGMNT             $102440.00  \n",
       "671    WATER MGMNT              $82044.00  \n",
       "685    WATER MGMNT             $109272.00  \n",
       "702    WATER MGMNT             $102440.00  \n",
       "1054   WATER MGMNT              $82044.00  \n",
       "1079   WATER MGMNT              $82044.00  \n",
       "1181   WATER MGMNT              $53172.00  \n",
       "1285   WATER MGMNT              $82576.00  \n",
       "2400   WATER MGMNT              $78948.00  \n",
       "2586   WATER MGMNT              $82044.00  \n",
       "2745   WATER MGMNT              $53172.00  \n",
       "3143   WATER MGMNT              $82728.00  \n",
       "3246   WATER MGMNT              $66780.00  \n",
       "3456   WATER MGMNT              $90744.00  \n",
       "3626   WATER MGMNT              $90744.00  \n",
       "3663   WATER MGMNT             $102440.00  \n",
       "4889   WATER MGMNT              $82576.00  \n",
       "5506   WATER MGMNT              $82044.00  \n",
       "6337   WATER MGMNT              $82576.00  \n",
       "6421   WATER MGMNT             $119208.00  \n",
       "6564   WATER MGMNT             $102440.00  \n",
       "6954   WATER MGMNT              $90744.00  \n",
       "7356   WATER MGMNT             $102440.00  \n",
       "7463   WATER MGMNT             $102440.00  \n",
       "7641   WATER MGMNT              $90744.00  \n",
       "7650   WATER MGMNT              $82576.00  \n",
       "8092   WATER MGMNT              $78948.00  \n",
       "8660   WATER MGMNT             $102440.00  \n",
       "9325   WATER MGMNT              $96840.00  \n",
       "...            ...                    ...  \n",
       "23187  WATER MGMNT              $70152.00  \n",
       "24003  WATER MGMNT              $78948.00  \n",
       "24178  WATER MGMNT              $66780.00  \n",
       "24266  WATER MGMNT              $90744.00  \n",
       "24422  WATER MGMNT              $78948.00  \n",
       "24501  WATER MGMNT              $90744.00  \n",
       "24945  WATER MGMNT              $65172.00  \n",
       "25055  WATER MGMNT              $90744.00  \n",
       "25233  WATER MGMNT             $109008.00  \n",
       "25260  WATER MGMNT             $118656.00  \n",
       "26372  WATER MGMNT              $89676.00  \n",
       "26519  WATER MGMNT              $90744.00  \n",
       "26625  WATER MGMNT              $90744.00  \n",
       "26871  WATER MGMNT              $90744.00  \n",
       "27015  WATER MGMNT              $90744.00  \n",
       "27368  WATER MGMNT             $102440.00  \n",
       "27537  WATER MGMNT             $102440.00  \n",
       "27635  WATER MGMNT              $82044.00  \n",
       "27755  WATER MGMNT              $82576.00  \n",
       "28185  WATER MGMNT              $82728.00  \n",
       "28443  WATER MGMNT              $78948.00  \n",
       "28574  WATER MGMNT              $62004.00  \n",
       "28602  WATER MGMNT              $78948.00  \n",
       "28955  WATER MGMNT              $78948.00  \n",
       "29584  WATER MGMNT              $78948.00  \n",
       "29669  WATER MGMNT             $111192.00  \n",
       "30239  WATER MGMNT              $89676.00  \n",
       "30544  WATER MGMNT             $115704.00  \n",
       "30991  WATER MGMNT             $102440.00  \n",
       "31405  WATER MGMNT             $102440.00  \n",
       "\n",
       "[111 rows x 4 columns]"
      ]
     },
     "execution_count": 66,
     "metadata": {},
     "output_type": "execute_result"
    }
   ],
   "source": [
    "## Extract the rows meet the condition based on string filter\n",
    "## .str.contains() takes a single argument and that is the substring we want to search for\n",
    "chicago['Position Title'].str.lower().str.contains(\"water\")   ## This gives a boolean series\n",
    "chicago[chicago['Position Title'].str.lower().str.contains(\"water\")]"
   ]
  },
  {
   "cell_type": "code",
   "execution_count": 69,
   "metadata": {
    "collapsed": false
   },
   "outputs": [
    {
     "data": {
      "text/html": [
       "<div>\n",
       "<style scoped>\n",
       "    .dataframe tbody tr th:only-of-type {\n",
       "        vertical-align: middle;\n",
       "    }\n",
       "\n",
       "    .dataframe tbody tr th {\n",
       "        vertical-align: top;\n",
       "    }\n",
       "\n",
       "    .dataframe thead th {\n",
       "        text-align: right;\n",
       "    }\n",
       "</style>\n",
       "<table border=\"1\" class=\"dataframe\">\n",
       "  <thead>\n",
       "    <tr style=\"text-align: right;\">\n",
       "      <th></th>\n",
       "      <th>Name</th>\n",
       "      <th>Position Title</th>\n",
       "      <th>Department</th>\n",
       "      <th>Employee Annual Salary</th>\n",
       "    </tr>\n",
       "  </thead>\n",
       "  <tbody>\n",
       "    <tr>\n",
       "      <th>0</th>\n",
       "      <td>AARON,  ELVIA J</td>\n",
       "      <td>WATER RATE TAKER</td>\n",
       "      <td>WATER MGMNT</td>\n",
       "      <td>$90744.00</td>\n",
       "    </tr>\n",
       "    <tr>\n",
       "      <th>671</th>\n",
       "      <td>ANDER,  PERRY A</td>\n",
       "      <td>WATER CHEMIST II</td>\n",
       "      <td>WATER MGMNT</td>\n",
       "      <td>$82044.00</td>\n",
       "    </tr>\n",
       "  </tbody>\n",
       "</table>\n",
       "</div>"
      ],
      "text/plain": [
       "                Name    Position Title   Department Employee Annual Salary\n",
       "0    AARON,  ELVIA J  WATER RATE TAKER  WATER MGMNT              $90744.00\n",
       "671  ANDER,  PERRY A  WATER CHEMIST II  WATER MGMNT              $82044.00"
      ]
     },
     "execution_count": 69,
     "metadata": {},
     "output_type": "execute_result"
    }
   ],
   "source": [
    "## .str.startswith()  and .str.endswith() will check the begin or the end of the string\n",
    "chicago[chicago['Position Title'].str.lower().str.startswith('water')].head(2)"
   ]
  },
  {
   "cell_type": "code",
   "execution_count": 71,
   "metadata": {
    "collapsed": false
   },
   "outputs": [
    {
     "data": {
      "text/html": [
       "<div>\n",
       "<style scoped>\n",
       "    .dataframe tbody tr th:only-of-type {\n",
       "        vertical-align: middle;\n",
       "    }\n",
       "\n",
       "    .dataframe tbody tr th {\n",
       "        vertical-align: top;\n",
       "    }\n",
       "\n",
       "    .dataframe thead th {\n",
       "        text-align: right;\n",
       "    }\n",
       "</style>\n",
       "<table border=\"1\" class=\"dataframe\">\n",
       "  <thead>\n",
       "    <tr style=\"text-align: right;\">\n",
       "      <th></th>\n",
       "      <th>Name</th>\n",
       "      <th>Position Title</th>\n",
       "      <th>Department</th>\n",
       "      <th>Employee Annual Salary</th>\n",
       "    </tr>\n",
       "  </thead>\n",
       "  <tbody>\n",
       "    <tr>\n",
       "      <th>184</th>\n",
       "      <td>AFROZ,  NAYYAR</td>\n",
       "      <td>PSYCHIATRIST</td>\n",
       "      <td>HEALTH</td>\n",
       "      <td>$99840.00</td>\n",
       "    </tr>\n",
       "    <tr>\n",
       "      <th>308</th>\n",
       "      <td>ALARCON,  LUIS J</td>\n",
       "      <td>LOAN PROCESSING SPECIALIST</td>\n",
       "      <td>COMMUNITY DEVELOPMENT</td>\n",
       "      <td>$81948.00</td>\n",
       "    </tr>\n",
       "    <tr>\n",
       "      <th>422</th>\n",
       "      <td>ALLAIN,  CAROLYN</td>\n",
       "      <td>SENIOR TELECOMMUNICATIONS SPECIALIST</td>\n",
       "      <td>DoIT</td>\n",
       "      <td>$89880.00</td>\n",
       "    </tr>\n",
       "  </tbody>\n",
       "</table>\n",
       "</div>"
      ],
      "text/plain": [
       "                 Name                        Position Title  \\\n",
       "184    AFROZ,  NAYYAR                          PSYCHIATRIST   \n",
       "308  ALARCON,  LUIS J            LOAN PROCESSING SPECIALIST   \n",
       "422  ALLAIN,  CAROLYN  SENIOR TELECOMMUNICATIONS SPECIALIST   \n",
       "\n",
       "                Department Employee Annual Salary  \n",
       "184                 HEALTH              $99840.00  \n",
       "308  COMMUNITY DEVELOPMENT              $81948.00  \n",
       "422                   DoIT              $89880.00  "
      ]
     },
     "execution_count": 71,
     "metadata": {},
     "output_type": "execute_result"
    }
   ],
   "source": [
    "chicago[chicago['Position Title'].str.lower().str.endswith('ist')].head(3)"
   ]
  },
  {
   "cell_type": "markdown",
   "metadata": {},
   "source": [
    "### More String Methods - .strip(), .lstrip(), and .rstrip()"
   ]
  },
  {
   "cell_type": "code",
   "execution_count": 5,
   "metadata": {
    "collapsed": false
   },
   "outputs": [
    {
     "data": {
      "text/plain": [
       "'Hello World  '"
      ]
     },
     "execution_count": 5,
     "metadata": {},
     "output_type": "execute_result"
    }
   ],
   "source": [
    "## .strip() function family is used to remove whitespace from a string\n",
    "## .strip() functions on basic strings\n",
    "'        Hello World  '.lstrip()  ## remove the left whitespaces"
   ]
  },
  {
   "cell_type": "code",
   "execution_count": 6,
   "metadata": {
    "collapsed": false
   },
   "outputs": [
    {
     "data": {
      "text/plain": [
       "'        Hello World'"
      ]
     },
     "execution_count": 6,
     "metadata": {},
     "output_type": "execute_result"
    }
   ],
   "source": [
    "'        Hello World  '.rstrip()  ## remove the right whitespaces"
   ]
  },
  {
   "cell_type": "code",
   "execution_count": 7,
   "metadata": {
    "collapsed": false
   },
   "outputs": [
    {
     "data": {
      "text/plain": [
       "'Hello World'"
      ]
     },
     "execution_count": 7,
     "metadata": {},
     "output_type": "execute_result"
    }
   ],
   "source": [
    "'        Hello World  '.strip()   ## remove whitespaces at the beginninga dn end of the string"
   ]
  },
  {
   "cell_type": "code",
   "execution_count": 9,
   "metadata": {
    "collapsed": false
   },
   "outputs": [],
   "source": [
    "chicago['Name'].str.lstrip()\n",
    "chicago['Name'].str.rstrip()\n",
    "chicago['Name'] = chicago['Name'].str.lstrip().str.rstrip()"
   ]
  },
  {
   "cell_type": "code",
   "execution_count": 10,
   "metadata": {
    "collapsed": true
   },
   "outputs": [],
   "source": [
    "chicago['Position Title'] = chicago['Position Title'].str.strip()"
   ]
  },
  {
   "cell_type": "markdown",
   "metadata": {
    "collapsed": true
   },
   "source": [
    "### String Methods on Index Labels and Columns Labels"
   ]
  },
  {
   "cell_type": "code",
   "execution_count": 23,
   "metadata": {
    "collapsed": true
   },
   "outputs": [],
   "source": [
    "chicago = pd.read_csv('chicago.csv', index_col='Name').dropna(how='all')\n",
    "chicago['Department'] = chicago['Department'].astype('category')"
   ]
  },
  {
   "cell_type": "code",
   "execution_count": 16,
   "metadata": {
    "collapsed": false
   },
   "outputs": [
    {
     "data": {
      "text/html": [
       "<div>\n",
       "<style scoped>\n",
       "    .dataframe tbody tr th:only-of-type {\n",
       "        vertical-align: middle;\n",
       "    }\n",
       "\n",
       "    .dataframe tbody tr th {\n",
       "        vertical-align: top;\n",
       "    }\n",
       "\n",
       "    .dataframe thead th {\n",
       "        text-align: right;\n",
       "    }\n",
       "</style>\n",
       "<table border=\"1\" class=\"dataframe\">\n",
       "  <thead>\n",
       "    <tr style=\"text-align: right;\">\n",
       "      <th></th>\n",
       "      <th>Position Title</th>\n",
       "      <th>Department</th>\n",
       "      <th>Employee Annual Salary</th>\n",
       "    </tr>\n",
       "    <tr>\n",
       "      <th>Name</th>\n",
       "      <th></th>\n",
       "      <th></th>\n",
       "      <th></th>\n",
       "    </tr>\n",
       "  </thead>\n",
       "  <tbody>\n",
       "    <tr>\n",
       "      <th>Aaron,  Elvia J</th>\n",
       "      <td>WATER RATE TAKER</td>\n",
       "      <td>WATER MGMNT</td>\n",
       "      <td>$90744.00</td>\n",
       "    </tr>\n",
       "    <tr>\n",
       "      <th>Aaron,  Jeffery M</th>\n",
       "      <td>POLICE OFFICER</td>\n",
       "      <td>POLICE</td>\n",
       "      <td>$84450.00</td>\n",
       "    </tr>\n",
       "    <tr>\n",
       "      <th>Aaron,  Karina</th>\n",
       "      <td>POLICE OFFICER</td>\n",
       "      <td>POLICE</td>\n",
       "      <td>$84450.00</td>\n",
       "    </tr>\n",
       "  </tbody>\n",
       "</table>\n",
       "</div>"
      ],
      "text/plain": [
       "                     Position Title   Department Employee Annual Salary\n",
       "Name                                                                   \n",
       "Aaron,  Elvia J    WATER RATE TAKER  WATER MGMNT              $90744.00\n",
       "Aaron,  Jeffery M    POLICE OFFICER       POLICE              $84450.00\n",
       "Aaron,  Karina       POLICE OFFICER       POLICE              $84450.00"
      ]
     },
     "execution_count": 16,
     "metadata": {},
     "output_type": "execute_result"
    }
   ],
   "source": [
    "chicago.index = chicago.index.str.strip().str.title()\n",
    "chicago.head(3)"
   ]
  },
  {
   "cell_type": "code",
   "execution_count": 22,
   "metadata": {
    "collapsed": false
   },
   "outputs": [
    {
     "data": {
      "text/html": [
       "<div>\n",
       "<style scoped>\n",
       "    .dataframe tbody tr th:only-of-type {\n",
       "        vertical-align: middle;\n",
       "    }\n",
       "\n",
       "    .dataframe tbody tr th {\n",
       "        vertical-align: top;\n",
       "    }\n",
       "\n",
       "    .dataframe thead th {\n",
       "        text-align: right;\n",
       "    }\n",
       "</style>\n",
       "<table border=\"1\" class=\"dataframe\">\n",
       "  <thead>\n",
       "    <tr style=\"text-align: right;\">\n",
       "      <th></th>\n",
       "      <th>POSITION TITLE</th>\n",
       "      <th>DEPARTMENT</th>\n",
       "      <th>EMPLOYEE ANNUAL SALARY</th>\n",
       "    </tr>\n",
       "    <tr>\n",
       "      <th>Name</th>\n",
       "      <th></th>\n",
       "      <th></th>\n",
       "      <th></th>\n",
       "    </tr>\n",
       "  </thead>\n",
       "  <tbody>\n",
       "    <tr>\n",
       "      <th>Aaron,  Elvia J</th>\n",
       "      <td>WATER RATE TAKER</td>\n",
       "      <td>WATER MGMNT</td>\n",
       "      <td>$90744.00</td>\n",
       "    </tr>\n",
       "  </tbody>\n",
       "</table>\n",
       "</div>"
      ],
      "text/plain": [
       "                   POSITION TITLE   DEPARTMENT EMPLOYEE ANNUAL SALARY\n",
       "Name                                                                 \n",
       "Aaron,  Elvia J  WATER RATE TAKER  WATER MGMNT              $90744.00"
      ]
     },
     "execution_count": 22,
     "metadata": {},
     "output_type": "execute_result"
    }
   ],
   "source": [
    "chicago.columns = chicago.columns.str.upper()\n",
    "chicago.head(1)"
   ]
  },
  {
   "cell_type": "markdown",
   "metadata": {
    "collapsed": true
   },
   "source": [
    "### Split Strings by Characters with .str.split() Method"
   ]
  },
  {
   "cell_type": "code",
   "execution_count": 24,
   "metadata": {
    "collapsed": false
   },
   "outputs": [
    {
     "data": {
      "text/plain": [
       "['Hello', 'my', 'name', 'is', 'Boris']"
      ]
     },
     "execution_count": 24,
     "metadata": {},
     "output_type": "execute_result"
    }
   ],
   "source": [
    "## .split() function takes a single argument which represents what is called the delimiter or the separator\n",
    "## .split() function: every time that it runs into the delimiter in the string, it is going to cut and return a list of \n",
    "## separate conponents of that string. Default delimitor is space\n",
    "'Hello my name is Boris'.split()"
   ]
  },
  {
   "cell_type": "code",
   "execution_count": 32,
   "metadata": {
    "collapsed": false
   },
   "outputs": [
    {
     "data": {
      "text/plain": [
       "0      [AARON,   ELVIA J]\n",
       "1    [AARON,   JEFFERY M]\n",
       "Name: Name, dtype: object"
      ]
     },
     "execution_count": 32,
     "metadata": {},
     "output_type": "execute_result"
    }
   ],
   "source": [
    "chicago['Name'].str.split(',').head(2)   ## Get a two-item lists for every row"
   ]
  },
  {
   "cell_type": "code",
   "execution_count": 38,
   "metadata": {
    "collapsed": false,
    "scrolled": true
   },
   "outputs": [
    {
     "data": {
      "text/plain": [
       "Williams        293\n",
       "Johnson         244\n",
       "Smith           241\n",
       "Brown           185\n",
       "Jones           183\n",
       "Rodriguez       171\n",
       "Jackson         136\n",
       "Garcia          130\n",
       "Davis           127\n",
       "Hernandez       110\n",
       "Martinez        108\n",
       "Lopez           106\n",
       "Gonzalez        104\n",
       "Perez           100\n",
       "Wilson           94\n",
       "Rivera           90\n",
       "Thomas           89\n",
       "Anderson         82\n",
       "Torres           81\n",
       "Murphy           80\n",
       "Robinson         79\n",
       "Moore            78\n",
       "Sanchez          76\n",
       "Harris           76\n",
       "Miller           75\n",
       "Lewis            74\n",
       "Taylor           73\n",
       "Martin           72\n",
       "White            66\n",
       "Clark            66\n",
       "               ... \n",
       "Stanczak          1\n",
       "Ambrosia          1\n",
       "Byrne Iii         1\n",
       "Givens Jr         1\n",
       "Kriv              1\n",
       "Faragalla         1\n",
       "Economos          1\n",
       "Felsenthal        1\n",
       "Giovannielli      1\n",
       "Mcgrone           1\n",
       "Iskowitz          1\n",
       "Maida Kohler      1\n",
       "Errera            1\n",
       "Napolillo         1\n",
       "Baumhardt         1\n",
       "Jamrok            1\n",
       "Carrizal          1\n",
       "Gricus            1\n",
       "Gammal            1\n",
       "Zamarripa         1\n",
       "Nathaniel         1\n",
       "Matassa           1\n",
       "Zirngibl          1\n",
       "Rontos            1\n",
       "Musolino          1\n",
       "Zieba             1\n",
       "Lorden            1\n",
       "Petraski          1\n",
       "Preib             1\n",
       "Winiecki          1\n",
       "Name: Name, Length: 13829, dtype: int64"
      ]
     },
     "execution_count": 38,
     "metadata": {},
     "output_type": "execute_result"
    }
   ],
   "source": [
    "## Pull the first item of each list of Name, we cannot use:\n",
    "## chicago['Name'].str.split(',')[0], this will only give the first list, we need to use .get() function\n",
    "chicago['Name'].str.split(',').str.get(0).str.title().value_counts()"
   ]
  },
  {
   "cell_type": "code",
   "execution_count": 49,
   "metadata": {
    "collapsed": false
   },
   "outputs": [
    {
     "data": {
      "text/plain": [
       "POLICE             10856\n",
       "FIREFIGHTER-EMT     1509\n",
       "SERGEANT            1186\n",
       "Name: Position Title, dtype: int64"
      ]
     },
     "execution_count": 49,
     "metadata": {},
     "output_type": "execute_result"
    }
   ],
   "source": [
    "chicago['Position Title'].str.split().str.get(0).value_counts().head(3)"
   ]
  },
  {
   "cell_type": "markdown",
   "metadata": {},
   "source": [
    "## More Practice wth Splits"
   ]
  },
  {
   "cell_type": "code",
   "execution_count": 59,
   "metadata": {
    "collapsed": false
   },
   "outputs": [
    {
     "data": {
      "text/plain": [
       "0    J\n",
       "1    M\n",
       "Name: Name, dtype: object"
      ]
     },
     "execution_count": 59,
     "metadata": {},
     "output_type": "execute_result"
    }
   ],
   "source": [
    "## We want to have the middle initial\n",
    "chicago['Name'].str.split(', ').str.get(1).str.split()   ## one way\n",
    "chicago['Name'].str.split(',').str.get(1).str.strip().str.split().str.get(-1).head(2)"
   ]
  },
  {
   "cell_type": "code",
   "execution_count": 61,
   "metadata": {
    "collapsed": false
   },
   "outputs": [
    {
     "data": {
      "text/plain": [
       "MICHAEL    1153\n",
       "JOHN        899\n",
       "JAMES       676\n",
       "ROBERT      622\n",
       "JOSEPH      537\n",
       "Name: Name, dtype: int64"
      ]
     },
     "execution_count": 61,
     "metadata": {},
     "output_type": "execute_result"
    }
   ],
   "source": [
    "## We want to have the first name\n",
    "chicago['Name'].str.split(',').str.get(1).str.strip().str.split().str.get(0).head(2)\n",
    "chicago['Name'].str.split(',').str.get(1).str.strip().str.split().str.get(0).value_counts().head()"
   ]
  },
  {
   "cell_type": "markdown",
   "metadata": {
    "collapsed": true
   },
   "source": [
    "### The expand and n Parametes of the .str.split() Method"
   ]
  },
  {
   "cell_type": "code",
   "execution_count": 65,
   "metadata": {
    "collapsed": false
   },
   "outputs": [
    {
     "data": {
      "text/html": [
       "<div>\n",
       "<style scoped>\n",
       "    .dataframe tbody tr th:only-of-type {\n",
       "        vertical-align: middle;\n",
       "    }\n",
       "\n",
       "    .dataframe tbody tr th {\n",
       "        vertical-align: top;\n",
       "    }\n",
       "\n",
       "    .dataframe thead th {\n",
       "        text-align: right;\n",
       "    }\n",
       "</style>\n",
       "<table border=\"1\" class=\"dataframe\">\n",
       "  <thead>\n",
       "    <tr style=\"text-align: right;\">\n",
       "      <th></th>\n",
       "      <th>Name</th>\n",
       "      <th>Position Title</th>\n",
       "      <th>Department</th>\n",
       "      <th>Employee Annual Salary</th>\n",
       "      <th>First Name</th>\n",
       "      <th>Last Name</th>\n",
       "    </tr>\n",
       "  </thead>\n",
       "  <tbody>\n",
       "    <tr>\n",
       "      <th>0</th>\n",
       "      <td>AARON,  ELVIA J</td>\n",
       "      <td>WATER RATE TAKER</td>\n",
       "      <td>WATER MGMNT</td>\n",
       "      <td>$90744.00</td>\n",
       "      <td>AARON</td>\n",
       "      <td>ELVIA J</td>\n",
       "    </tr>\n",
       "    <tr>\n",
       "      <th>1</th>\n",
       "      <td>AARON,  JEFFERY M</td>\n",
       "      <td>POLICE OFFICER</td>\n",
       "      <td>POLICE</td>\n",
       "      <td>$84450.00</td>\n",
       "      <td>AARON</td>\n",
       "      <td>JEFFERY M</td>\n",
       "    </tr>\n",
       "    <tr>\n",
       "      <th>2</th>\n",
       "      <td>AARON,  KARINA</td>\n",
       "      <td>POLICE OFFICER</td>\n",
       "      <td>POLICE</td>\n",
       "      <td>$84450.00</td>\n",
       "      <td>AARON</td>\n",
       "      <td>KARINA</td>\n",
       "    </tr>\n",
       "  </tbody>\n",
       "</table>\n",
       "</div>"
      ],
      "text/plain": [
       "                Name    Position Title   Department Employee Annual Salary  \\\n",
       "0    AARON,  ELVIA J  WATER RATE TAKER  WATER MGMNT              $90744.00   \n",
       "1  AARON,  JEFFERY M    POLICE OFFICER       POLICE              $84450.00   \n",
       "2     AARON,  KARINA    POLICE OFFICER       POLICE              $84450.00   \n",
       "\n",
       "  First Name    Last Name  \n",
       "0      AARON      ELVIA J  \n",
       "1      AARON    JEFFERY M  \n",
       "2      AARON       KARINA  "
      ]
     },
     "execution_count": 65,
     "metadata": {},
     "output_type": "execute_result"
    }
   ],
   "source": [
    "## 1. expand =  parameter in split() function, default is set to False, if we set expand = True, it will return a dataframe\n",
    "chicago[['First Name' , 'Last Name']] = chicago['Name'].str.split(',', expand = True)\n",
    "chicago.head(3)"
   ]
  },
  {
   "cell_type": "code",
   "execution_count": 69,
   "metadata": {
    "collapsed": false,
    "scrolled": true
   },
   "outputs": [
    {
     "data": {
      "text/html": [
       "<div>\n",
       "<style scoped>\n",
       "    .dataframe tbody tr th:only-of-type {\n",
       "        vertical-align: middle;\n",
       "    }\n",
       "\n",
       "    .dataframe tbody tr th {\n",
       "        vertical-align: top;\n",
       "    }\n",
       "\n",
       "    .dataframe thead th {\n",
       "        text-align: right;\n",
       "    }\n",
       "</style>\n",
       "<table border=\"1\" class=\"dataframe\">\n",
       "  <thead>\n",
       "    <tr style=\"text-align: right;\">\n",
       "      <th></th>\n",
       "      <th>Name</th>\n",
       "      <th>Position Title</th>\n",
       "      <th>Department</th>\n",
       "      <th>Employee Annual Salary</th>\n",
       "      <th>First Name</th>\n",
       "      <th>Last Name</th>\n",
       "      <th>First Title Word</th>\n",
       "      <th>Remaining Words</th>\n",
       "    </tr>\n",
       "  </thead>\n",
       "  <tbody>\n",
       "    <tr>\n",
       "      <th>0</th>\n",
       "      <td>AARON,  ELVIA J</td>\n",
       "      <td>WATER RATE TAKER</td>\n",
       "      <td>WATER MGMNT</td>\n",
       "      <td>$90744.00</td>\n",
       "      <td>AARON</td>\n",
       "      <td>ELVIA J</td>\n",
       "      <td>WATER</td>\n",
       "      <td>RATE TAKER</td>\n",
       "    </tr>\n",
       "    <tr>\n",
       "      <th>1</th>\n",
       "      <td>AARON,  JEFFERY M</td>\n",
       "      <td>POLICE OFFICER</td>\n",
       "      <td>POLICE</td>\n",
       "      <td>$84450.00</td>\n",
       "      <td>AARON</td>\n",
       "      <td>JEFFERY M</td>\n",
       "      <td>POLICE</td>\n",
       "      <td>OFFICER</td>\n",
       "    </tr>\n",
       "    <tr>\n",
       "      <th>2</th>\n",
       "      <td>AARON,  KARINA</td>\n",
       "      <td>POLICE OFFICER</td>\n",
       "      <td>POLICE</td>\n",
       "      <td>$84450.00</td>\n",
       "      <td>AARON</td>\n",
       "      <td>KARINA</td>\n",
       "      <td>POLICE</td>\n",
       "      <td>OFFICER</td>\n",
       "    </tr>\n",
       "  </tbody>\n",
       "</table>\n",
       "</div>"
      ],
      "text/plain": [
       "                Name    Position Title   Department Employee Annual Salary  \\\n",
       "0    AARON,  ELVIA J  WATER RATE TAKER  WATER MGMNT              $90744.00   \n",
       "1  AARON,  JEFFERY M    POLICE OFFICER       POLICE              $84450.00   \n",
       "2     AARON,  KARINA    POLICE OFFICER       POLICE              $84450.00   \n",
       "\n",
       "  First Name    Last Name First Title Word Remaining Words  \n",
       "0      AARON      ELVIA J            WATER      RATE TAKER  \n",
       "1      AARON    JEFFERY M           POLICE         OFFICER  \n",
       "2      AARON       KARINA           POLICE         OFFICER  "
      ]
     },
     "execution_count": 69,
     "metadata": {},
     "output_type": "execute_result"
    }
   ],
   "source": [
    "## 2. n =  parameter in split() function, n represent the maximum number of splits that we want\n",
    "chicago[['First Title Word', 'Remaining Words']] = chicago['Position Title'].str.split(expand = True, n = 1)\n",
    "chicago.head(3)"
   ]
  },
  {
   "cell_type": "code",
   "execution_count": null,
   "metadata": {
    "collapsed": true
   },
   "outputs": [],
   "source": []
  },
  {
   "cell_type": "code",
   "execution_count": null,
   "metadata": {
    "collapsed": true
   },
   "outputs": [],
   "source": []
  }
 ],
 "metadata": {
  "kernelspec": {
   "display_name": "Python 3",
   "language": "python",
   "name": "python3"
  },
  "language_info": {
   "codemirror_mode": {
    "name": "ipython",
    "version": 3
   },
   "file_extension": ".py",
   "mimetype": "text/x-python",
   "name": "python",
   "nbconvert_exporter": "python",
   "pygments_lexer": "ipython3",
   "version": "3.6.0"
  }
 },
 "nbformat": 4,
 "nbformat_minor": 2
}
