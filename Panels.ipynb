{
 "cells": [
  {
   "cell_type": "markdown",
   "metadata": {},
   "source": [
    "### Intro to the Module + Fetch Panel Dataset from Google Finance"
   ]
  },
  {
   "cell_type": "code",
   "execution_count": 117,
   "metadata": {
    "collapsed": false
   },
   "outputs": [],
   "source": [
    "## Series: one dimensional data structure; DataFrame: two-dimensional data structure; Panel: Three-dimensional data structure\n",
    "## Need three references to pull the data needed from panel \n",
    "import pandas as pd\n",
    "from pandas_datareader import data"
   ]
  },
  {
   "cell_type": "code",
   "execution_count": 9,
   "metadata": {
    "collapsed": false,
    "scrolled": true
   },
   "outputs": [],
   "source": [
    "## Extract information for multiple companies and results will be a panel data\n",
    "companies= ['MSFT', 'GOOG', 'AAPL', 'YHOO', 'AMZN']\n",
    "p = data.DataReader(name = companies, data_source = 'google', start = '2010-01-01', end = '2016-12-31')\n",
    "p   ## p is a panel data "
   ]
  },
  {
   "cell_type": "code",
   "execution_count": 118,
   "metadata": {
    "collapsed": false,
    "scrolled": true
   },
   "outputs": [
    {
     "data": {
      "text/html": [
       "<div>\n",
       "<style scoped>\n",
       "    .dataframe tbody tr th:only-of-type {\n",
       "        vertical-align: middle;\n",
       "    }\n",
       "\n",
       "    .dataframe tbody tr th {\n",
       "        vertical-align: top;\n",
       "    }\n",
       "\n",
       "    .dataframe thead th {\n",
       "        text-align: right;\n",
       "    }\n",
       "</style>\n",
       "<table border=\"1\" class=\"dataframe\">\n",
       "  <thead>\n",
       "    <tr style=\"text-align: right;\">\n",
       "      <th></th>\n",
       "      <th>Company</th>\n",
       "      <th>Date</th>\n",
       "      <th>Open</th>\n",
       "      <th>High</th>\n",
       "      <th>Low</th>\n",
       "      <th>Close</th>\n",
       "      <th>Volume</th>\n",
       "    </tr>\n",
       "  </thead>\n",
       "  <tbody>\n",
       "    <tr>\n",
       "      <th>0</th>\n",
       "      <td>MSFT</td>\n",
       "      <td>2010-01-04</td>\n",
       "      <td>30.620001</td>\n",
       "      <td>31.10</td>\n",
       "      <td>30.590000</td>\n",
       "      <td>30.950001</td>\n",
       "      <td>38409100</td>\n",
       "    </tr>\n",
       "    <tr>\n",
       "      <th>1</th>\n",
       "      <td>MSFT</td>\n",
       "      <td>2010-01-05</td>\n",
       "      <td>30.850000</td>\n",
       "      <td>31.10</td>\n",
       "      <td>30.639999</td>\n",
       "      <td>30.959999</td>\n",
       "      <td>49749600</td>\n",
       "    </tr>\n",
       "    <tr>\n",
       "      <th>2</th>\n",
       "      <td>MSFT</td>\n",
       "      <td>2010-01-06</td>\n",
       "      <td>30.879999</td>\n",
       "      <td>31.08</td>\n",
       "      <td>30.520000</td>\n",
       "      <td>30.770000</td>\n",
       "      <td>58182400</td>\n",
       "    </tr>\n",
       "  </tbody>\n",
       "</table>\n",
       "</div>"
      ],
      "text/plain": [
       "  Company       Date       Open   High        Low      Close    Volume\n",
       "0    MSFT 2010-01-04  30.620001  31.10  30.590000  30.950001  38409100\n",
       "1    MSFT 2010-01-05  30.850000  31.10  30.639999  30.959999  49749600\n",
       "2    MSFT 2010-01-06  30.879999  31.08  30.520000  30.770000  58182400"
      ]
     },
     "execution_count": 118,
     "metadata": {},
     "output_type": "execute_result"
    }
   ],
   "source": [
    "stocks = pd.read_csv('Stocks.csv', parse_dates = ['Date']).drop('Adj Close', axis = 'columns')\n",
    "stocks.head(3)"
   ]
  },
  {
   "cell_type": "code",
   "execution_count": 119,
   "metadata": {
    "collapsed": false
   },
   "outputs": [
    {
     "name": "stderr",
     "output_type": "stream",
     "text": [
      "C:\\Anaconda3\\lib\\site-packages\\IPython\\core\\interactiveshell.py:2881: FutureWarning: \n",
      "Panel is deprecated and will be removed in a future version.\n",
      "The recommended way to represent these types of 3-dimensional data are with a MultiIndex on a DataFrame, via the Panel.to_frame() method\n",
      "Alternatively, you can use the xarray package http://xarray.pydata.org/en/stable/.\n",
      "Pandas provides a `.to_xarray()` method to help automate this conversion.\n",
      "\n",
      "  exec(code_obj, self.user_global_ns, self.user_ns)\n"
     ]
    },
    {
     "data": {
      "text/plain": [
       "<class 'pandas.core.panel.Panel'>\n",
       "Dimensions: 5 (items) x 1762 (major_axis) x 4 (minor_axis)\n",
       "Items axis: Open to Volume\n",
       "Major_axis axis: 2010-01-04 00:00:00 to 2016-12-30 00:00:00\n",
       "Minor_axis axis: AAPL to MSFT"
      ]
     },
     "execution_count": 119,
     "metadata": {},
     "output_type": "execute_result"
    }
   ],
   "source": [
    "p = pd.Panel(dict(zip(items, [stocks.pivot(index = 'Date', columns = 'Company', values = i) for i in items])))\n",
    "p"
   ]
  },
  {
   "cell_type": "markdown",
   "metadata": {
    "collapsed": true
   },
   "source": [
    "### The Axes of a Panel Object"
   ]
  },
  {
   "cell_type": "code",
   "execution_count": 49,
   "metadata": {
    "collapsed": false
   },
   "outputs": [
    {
     "data": {
      "text/plain": [
       "Index(['Open', 'High', 'Low', 'Close', 'Volume'], dtype='object')"
      ]
     },
     "execution_count": 49,
     "metadata": {},
     "output_type": "execute_result"
    }
   ],
   "source": [
    "## axes of panel objects are the components of three dimensional objects\n",
    "## Dimensions: tells us how many dataframes are stored, we have columns * rows(each data frame) * number of dataframes\n",
    "## in stocks, we have 5 dataframes, each dataframe has 1762 rows of record of four companies\n",
    "p.items  ## The most external layer of panel data. 5 dataframes "
   ]
  },
  {
   "cell_type": "code",
   "execution_count": 51,
   "metadata": {
    "collapsed": false
   },
   "outputs": [
    {
     "data": {
      "text/plain": [
       "DatetimeIndex(['2010-01-04', '2010-01-05', '2010-01-06', '2010-01-07',\n",
       "               '2010-01-08', '2010-01-11', '2010-01-12', '2010-01-13',\n",
       "               '2010-01-14', '2010-01-15',\n",
       "               ...\n",
       "               '2016-12-16', '2016-12-19', '2016-12-20', '2016-12-21',\n",
       "               '2016-12-22', '2016-12-23', '2016-12-27', '2016-12-28',\n",
       "               '2016-12-29', '2016-12-30'],\n",
       "              dtype='datetime64[ns]', name='Date', length=1762, freq=None)"
      ]
     },
     "execution_count": 51,
     "metadata": {},
     "output_type": "execute_result"
    }
   ],
   "source": [
    "p.major_axis  ## an attribute gives us a list of major axis represents the row labels "
   ]
  },
  {
   "cell_type": "code",
   "execution_count": 50,
   "metadata": {
    "collapsed": false
   },
   "outputs": [
    {
     "data": {
      "text/plain": [
       "Index(['AAPL', 'AMZN', 'GOOG', 'MSFT'], dtype='object', name='Company')"
      ]
     },
     "execution_count": 50,
     "metadata": {},
     "output_type": "execute_result"
    }
   ],
   "source": [
    "p.minor_axis  # an attribute gives us a list of columns names in each dataframe"
   ]
  },
  {
   "cell_type": "code",
   "execution_count": 52,
   "metadata": {
    "collapsed": false
   },
   "outputs": [
    {
     "data": {
      "text/plain": [
       "[Index(['Open', 'High', 'Low', 'Close', 'Volume'], dtype='object'),\n",
       " DatetimeIndex(['2010-01-04', '2010-01-05', '2010-01-06', '2010-01-07',\n",
       "                '2010-01-08', '2010-01-11', '2010-01-12', '2010-01-13',\n",
       "                '2010-01-14', '2010-01-15',\n",
       "                ...\n",
       "                '2016-12-16', '2016-12-19', '2016-12-20', '2016-12-21',\n",
       "                '2016-12-22', '2016-12-23', '2016-12-27', '2016-12-28',\n",
       "                '2016-12-29', '2016-12-30'],\n",
       "               dtype='datetime64[ns]', name='Date', length=1762, freq=None),\n",
       " Index(['AAPL', 'AMZN', 'GOOG', 'MSFT'], dtype='object', name='Company')]"
      ]
     },
     "execution_count": 52,
     "metadata": {},
     "output_type": "execute_result"
    }
   ],
   "source": [
    "p.axes  ## bundle the previous .items, .major_axis, .minor_axis attributes information together"
   ]
  },
  {
   "cell_type": "markdown",
   "metadata": {
    "collapsed": true
   },
   "source": [
    "### Panel Attributes"
   ]
  },
  {
   "cell_type": "code",
   "execution_count": 53,
   "metadata": {
    "collapsed": false
   },
   "outputs": [
    {
     "data": {
      "text/plain": [
       "3"
      ]
     },
     "execution_count": 53,
     "metadata": {},
     "output_type": "execute_result"
    }
   ],
   "source": [
    "p.ndim  ## panel data is three-dimensional data"
   ]
  },
  {
   "cell_type": "code",
   "execution_count": 54,
   "metadata": {
    "collapsed": false
   },
   "outputs": [
    {
     "data": {
      "text/plain": [
       "Open      float64\n",
       "High      float64\n",
       "Low       float64\n",
       "Close     float64\n",
       "Volume      int64\n",
       "dtype: object"
      ]
     },
     "execution_count": 54,
     "metadata": {},
     "output_type": "execute_result"
    }
   ],
   "source": [
    "p.dtypes"
   ]
  },
  {
   "cell_type": "code",
   "execution_count": 55,
   "metadata": {
    "collapsed": false
   },
   "outputs": [
    {
     "data": {
      "text/plain": [
       "(5, 1762, 4)"
      ]
     },
     "execution_count": 55,
     "metadata": {},
     "output_type": "execute_result"
    }
   ],
   "source": [
    "p.shape   ## tuple gives the measurements of the panel ( # of dataframes, rows, columns)"
   ]
  },
  {
   "cell_type": "code",
   "execution_count": 56,
   "metadata": {
    "collapsed": false
   },
   "outputs": [
    {
     "data": {
      "text/plain": [
       "35240"
      ]
     },
     "execution_count": 56,
     "metadata": {},
     "output_type": "execute_result"
    }
   ],
   "source": [
    "p.size   ## total number of values stored in the panel data = 5 * 1762 * 4"
   ]
  },
  {
   "cell_type": "code",
   "execution_count": 57,
   "metadata": {
    "collapsed": false,
    "scrolled": true
   },
   "outputs": [
    {
     "data": {
      "text/plain": [
       "array([[[3.04900000e+01, 1.36250000e+02, 3.12304413e+02, 3.06200010e+01],\n",
       "        [3.06571430e+01, 1.33429993e+02, 3.12418976e+02, 3.08500000e+01],\n",
       "        [3.06257130e+01, 1.34600006e+02, 3.11761444e+02, 3.08799990e+01],\n",
       "        ...,\n",
       "        [1.17519997e+02, 7.76250000e+02, 7.93700012e+02, 6.34000020e+01],\n",
       "        [1.16449997e+02, 7.72400024e+02, 7.83330017e+02, 6.28600010e+01],\n",
       "        [1.16650002e+02, 7.66469971e+02, 7.82750000e+02, 6.29599990e+01]],\n",
       "\n",
       "       [[3.06428570e+01, 1.36610001e+02, 3.13579620e+02, 3.11000000e+01],\n",
       "        [3.07985710e+01, 1.35479996e+02, 3.12747742e+02, 3.11000000e+01],\n",
       "        [3.07471430e+01, 1.34729996e+02, 3.11761444e+02, 3.10800000e+01],\n",
       "        ...,\n",
       "        [1.18019997e+02, 7.80000000e+02, 7.94229980e+02, 6.34000020e+01],\n",
       "        [1.17110001e+02, 7.73400024e+02, 7.85929993e+02, 6.32000010e+01],\n",
       "        [1.17199997e+02, 7.67400024e+02, 7.82780029e+02, 6.29900020e+01]],\n",
       "\n",
       "       [[3.03400000e+01, 1.33139999e+02, 3.10954468e+02, 3.05900000e+01],\n",
       "        [3.04642850e+01, 1.31809998e+02, 3.09609497e+02, 3.06399990e+01],\n",
       "        [3.01071430e+01, 1.31649994e+02, 3.02047852e+02, 3.05200000e+01],\n",
       "        ...,\n",
       "        [1.16199997e+02, 7.70500000e+02, 7.83200012e+02, 6.28300020e+01],\n",
       "        [1.16400002e+02, 7.60849976e+02, 7.78919983e+02, 6.27300000e+01],\n",
       "        [1.15430000e+02, 7.48280029e+02, 7.70409973e+02, 6.20299990e+01]],\n",
       "\n",
       "       [[3.05728570e+01, 1.33899994e+02, 3.12204773e+02, 3.09500010e+01],\n",
       "        [3.06257130e+01, 1.34690002e+02, 3.10829926e+02, 3.09599990e+01],\n",
       "        [3.01385710e+01, 1.32250000e+02, 3.02994293e+02, 3.07700000e+01],\n",
       "        ...,\n",
       "        [1.16760002e+02, 7.72130005e+02, 7.85049988e+02, 6.29900020e+01],\n",
       "        [1.16730003e+02, 7.65150024e+02, 7.82789978e+02, 6.29000020e+01],\n",
       "        [1.15820000e+02, 7.49869995e+02, 7.71820007e+02, 6.21399990e+01]],\n",
       "\n",
       "       [[1.23432400e+08, 7.59990000e+06, 3.92700000e+06, 3.84091000e+07],\n",
       "        [1.50476200e+08, 8.85190000e+06, 6.03190000e+06, 4.97496000e+07],\n",
       "        [1.38040000e+08, 7.17880000e+06, 7.98710000e+06, 5.81824000e+07],\n",
       "        ...,\n",
       "        [2.09059000e+07, 3.30100000e+06, 1.15380000e+06, 1.46533000e+07],\n",
       "        [1.50395000e+07, 3.15830000e+06, 7.44300000e+05, 1.02506000e+07],\n",
       "        [3.05863000e+07, 4.13940000e+06, 1.77000000e+06, 2.55799000e+07]]])"
      ]
     },
     "execution_count": 57,
     "metadata": {},
     "output_type": "execute_result"
    }
   ],
   "source": [
    "p.values  ## it gives all the rows of values within every single one of our data"
   ]
  },
  {
   "cell_type": "markdown",
   "metadata": {
    "collapsed": true
   },
   "source": [
    "### Use Bracket Notation to Extract a DataFrame from a Panel (for Subsetting)"
   ]
  },
  {
   "cell_type": "code",
   "execution_count": 58,
   "metadata": {
    "collapsed": false
   },
   "outputs": [
    {
     "data": {
      "text/plain": [
       "Index(['Open', 'High', 'Low', 'Close', 'Volume'], dtype='object')"
      ]
     },
     "execution_count": 58,
     "metadata": {},
     "output_type": "execute_result"
    }
   ],
   "source": [
    "p.items"
   ]
  },
  {
   "cell_type": "code",
   "execution_count": 60,
   "metadata": {
    "collapsed": false,
    "scrolled": true
   },
   "outputs": [
    {
     "data": {
      "text/html": [
       "<div>\n",
       "<style scoped>\n",
       "    .dataframe tbody tr th:only-of-type {\n",
       "        vertical-align: middle;\n",
       "    }\n",
       "\n",
       "    .dataframe tbody tr th {\n",
       "        vertical-align: top;\n",
       "    }\n",
       "\n",
       "    .dataframe thead th {\n",
       "        text-align: right;\n",
       "    }\n",
       "</style>\n",
       "<table border=\"1\" class=\"dataframe\">\n",
       "  <thead>\n",
       "    <tr style=\"text-align: right;\">\n",
       "      <th>Company</th>\n",
       "      <th>AAPL</th>\n",
       "      <th>AMZN</th>\n",
       "      <th>GOOG</th>\n",
       "      <th>MSFT</th>\n",
       "    </tr>\n",
       "    <tr>\n",
       "      <th>Date</th>\n",
       "      <th></th>\n",
       "      <th></th>\n",
       "      <th></th>\n",
       "      <th></th>\n",
       "    </tr>\n",
       "  </thead>\n",
       "  <tbody>\n",
       "    <tr>\n",
       "      <th>2010-01-04</th>\n",
       "      <td>30.490000</td>\n",
       "      <td>136.250000</td>\n",
       "      <td>312.304413</td>\n",
       "      <td>30.620001</td>\n",
       "    </tr>\n",
       "    <tr>\n",
       "      <th>2010-01-05</th>\n",
       "      <td>30.657143</td>\n",
       "      <td>133.429993</td>\n",
       "      <td>312.418976</td>\n",
       "      <td>30.850000</td>\n",
       "    </tr>\n",
       "    <tr>\n",
       "      <th>2010-01-06</th>\n",
       "      <td>30.625713</td>\n",
       "      <td>134.600006</td>\n",
       "      <td>311.761444</td>\n",
       "      <td>30.879999</td>\n",
       "    </tr>\n",
       "    <tr>\n",
       "      <th>2010-01-07</th>\n",
       "      <td>30.250000</td>\n",
       "      <td>132.009995</td>\n",
       "      <td>303.562164</td>\n",
       "      <td>30.629999</td>\n",
       "    </tr>\n",
       "    <tr>\n",
       "      <th>2010-01-08</th>\n",
       "      <td>30.042856</td>\n",
       "      <td>130.559998</td>\n",
       "      <td>294.894653</td>\n",
       "      <td>30.280001</td>\n",
       "    </tr>\n",
       "    <tr>\n",
       "      <th>2010-01-11</th>\n",
       "      <td>30.400000</td>\n",
       "      <td>132.619995</td>\n",
       "      <td>301.101410</td>\n",
       "      <td>30.709999</td>\n",
       "    </tr>\n",
       "    <tr>\n",
       "      <th>2010-01-12</th>\n",
       "      <td>29.884285</td>\n",
       "      <td>128.990005</td>\n",
       "      <td>297.709106</td>\n",
       "      <td>30.150000</td>\n",
       "    </tr>\n",
       "    <tr>\n",
       "      <th>2010-01-13</th>\n",
       "      <td>29.695715</td>\n",
       "      <td>127.900002</td>\n",
       "      <td>287.168610</td>\n",
       "      <td>30.260000</td>\n",
       "    </tr>\n",
       "    <tr>\n",
       "      <th>2010-01-14</th>\n",
       "      <td>30.015715</td>\n",
       "      <td>129.139999</td>\n",
       "      <td>290.859772</td>\n",
       "      <td>30.309999</td>\n",
       "    </tr>\n",
       "    <tr>\n",
       "      <th>2010-01-15</th>\n",
       "      <td>30.132856</td>\n",
       "      <td>129.179993</td>\n",
       "      <td>295.562164</td>\n",
       "      <td>31.080000</td>\n",
       "    </tr>\n",
       "    <tr>\n",
       "      <th>2010-01-19</th>\n",
       "      <td>29.761429</td>\n",
       "      <td>126.309998</td>\n",
       "      <td>289.514832</td>\n",
       "      <td>30.750000</td>\n",
       "    </tr>\n",
       "    <tr>\n",
       "      <th>2010-01-20</th>\n",
       "      <td>30.701429</td>\n",
       "      <td>127.129997</td>\n",
       "      <td>291.895905</td>\n",
       "      <td>30.809999</td>\n",
       "    </tr>\n",
       "    <tr>\n",
       "      <th>2010-01-21</th>\n",
       "      <td>30.297142</td>\n",
       "      <td>127.260002</td>\n",
       "      <td>290.630646</td>\n",
       "      <td>30.610001</td>\n",
       "    </tr>\n",
       "    <tr>\n",
       "      <th>2010-01-22</th>\n",
       "      <td>29.540001</td>\n",
       "      <td>125.599998</td>\n",
       "      <td>281.196014</td>\n",
       "      <td>30.000000</td>\n",
       "    </tr>\n",
       "    <tr>\n",
       "      <th>2010-01-25</th>\n",
       "      <td>28.930000</td>\n",
       "      <td>122.099998</td>\n",
       "      <td>272.274445</td>\n",
       "      <td>29.240000</td>\n",
       "    </tr>\n",
       "    <tr>\n",
       "      <th>2010-01-26</th>\n",
       "      <td>29.421429</td>\n",
       "      <td>120.559998</td>\n",
       "      <td>267.980530</td>\n",
       "      <td>29.200001</td>\n",
       "    </tr>\n",
       "    <tr>\n",
       "      <th>2010-01-27</th>\n",
       "      <td>29.549999</td>\n",
       "      <td>121.029999</td>\n",
       "      <td>269.624390</td>\n",
       "      <td>29.350000</td>\n",
       "    </tr>\n",
       "    <tr>\n",
       "      <th>2010-01-28</th>\n",
       "      <td>29.275715</td>\n",
       "      <td>124.430000</td>\n",
       "      <td>271.228363</td>\n",
       "      <td>29.840000</td>\n",
       "    </tr>\n",
       "    <tr>\n",
       "      <th>2010-01-29</th>\n",
       "      <td>28.725714</td>\n",
       "      <td>129.770004</td>\n",
       "      <td>268.239563</td>\n",
       "      <td>29.900000</td>\n",
       "    </tr>\n",
       "    <tr>\n",
       "      <th>2010-02-01</th>\n",
       "      <td>27.481428</td>\n",
       "      <td>123.180000</td>\n",
       "      <td>266.301849</td>\n",
       "      <td>28.389999</td>\n",
       "    </tr>\n",
       "    <tr>\n",
       "      <th>2010-02-02</th>\n",
       "      <td>27.987143</td>\n",
       "      <td>118.790001</td>\n",
       "      <td>266.481171</td>\n",
       "      <td>28.370001</td>\n",
       "    </tr>\n",
       "    <tr>\n",
       "      <th>2010-02-03</th>\n",
       "      <td>27.881428</td>\n",
       "      <td>117.120003</td>\n",
       "      <td>263.347900</td>\n",
       "      <td>28.260000</td>\n",
       "    </tr>\n",
       "    <tr>\n",
       "      <th>2010-02-04</th>\n",
       "      <td>28.104286</td>\n",
       "      <td>118.639999</td>\n",
       "      <td>267.497345</td>\n",
       "      <td>28.379999</td>\n",
       "    </tr>\n",
       "    <tr>\n",
       "      <th>2010-02-05</th>\n",
       "      <td>27.518572</td>\n",
       "      <td>115.879997</td>\n",
       "      <td>263.213409</td>\n",
       "      <td>28.000000</td>\n",
       "    </tr>\n",
       "    <tr>\n",
       "      <th>2010-02-08</th>\n",
       "      <td>27.955715</td>\n",
       "      <td>119.379997</td>\n",
       "      <td>265.255768</td>\n",
       "      <td>28.010000</td>\n",
       "    </tr>\n",
       "    <tr>\n",
       "      <th>2010-02-09</th>\n",
       "      <td>28.059999</td>\n",
       "      <td>118.199997</td>\n",
       "      <td>268.762604</td>\n",
       "      <td>27.969999</td>\n",
       "    </tr>\n",
       "    <tr>\n",
       "      <th>2010-02-10</th>\n",
       "      <td>27.984285</td>\n",
       "      <td>118.000000</td>\n",
       "      <td>266.037811</td>\n",
       "      <td>28.030001</td>\n",
       "    </tr>\n",
       "    <tr>\n",
       "      <th>2010-02-11</th>\n",
       "      <td>27.840000</td>\n",
       "      <td>117.209999</td>\n",
       "      <td>265.664215</td>\n",
       "      <td>27.930000</td>\n",
       "    </tr>\n",
       "    <tr>\n",
       "      <th>2010-02-12</th>\n",
       "      <td>28.301428</td>\n",
       "      <td>118.989998</td>\n",
       "      <td>265.489868</td>\n",
       "      <td>27.809999</td>\n",
       "    </tr>\n",
       "    <tr>\n",
       "      <th>2010-02-16</th>\n",
       "      <td>28.848572</td>\n",
       "      <td>120.059998</td>\n",
       "      <td>267.432587</td>\n",
       "      <td>28.129999</td>\n",
       "    </tr>\n",
       "    <tr>\n",
       "      <th>...</th>\n",
       "      <td>...</td>\n",
       "      <td>...</td>\n",
       "      <td>...</td>\n",
       "      <td>...</td>\n",
       "    </tr>\n",
       "    <tr>\n",
       "      <th>2016-11-17</th>\n",
       "      <td>109.809998</td>\n",
       "      <td>749.320007</td>\n",
       "      <td>766.919983</td>\n",
       "      <td>60.410000</td>\n",
       "    </tr>\n",
       "    <tr>\n",
       "      <th>2016-11-18</th>\n",
       "      <td>109.720001</td>\n",
       "      <td>761.000000</td>\n",
       "      <td>771.369995</td>\n",
       "      <td>60.779999</td>\n",
       "    </tr>\n",
       "    <tr>\n",
       "      <th>2016-11-21</th>\n",
       "      <td>110.120003</td>\n",
       "      <td>766.000000</td>\n",
       "      <td>762.609985</td>\n",
       "      <td>60.500000</td>\n",
       "    </tr>\n",
       "    <tr>\n",
       "      <th>2016-11-22</th>\n",
       "      <td>111.949997</td>\n",
       "      <td>788.169983</td>\n",
       "      <td>772.630005</td>\n",
       "      <td>60.980000</td>\n",
       "    </tr>\n",
       "    <tr>\n",
       "      <th>2016-11-23</th>\n",
       "      <td>111.360001</td>\n",
       "      <td>781.729980</td>\n",
       "      <td>767.729980</td>\n",
       "      <td>61.009998</td>\n",
       "    </tr>\n",
       "    <tr>\n",
       "      <th>2016-11-25</th>\n",
       "      <td>111.129997</td>\n",
       "      <td>786.500000</td>\n",
       "      <td>764.260010</td>\n",
       "      <td>60.299999</td>\n",
       "    </tr>\n",
       "    <tr>\n",
       "      <th>2016-11-28</th>\n",
       "      <td>111.430000</td>\n",
       "      <td>776.989990</td>\n",
       "      <td>760.000000</td>\n",
       "      <td>60.340000</td>\n",
       "    </tr>\n",
       "    <tr>\n",
       "      <th>2016-11-29</th>\n",
       "      <td>110.779999</td>\n",
       "      <td>768.000000</td>\n",
       "      <td>771.530029</td>\n",
       "      <td>60.650002</td>\n",
       "    </tr>\n",
       "    <tr>\n",
       "      <th>2016-11-30</th>\n",
       "      <td>111.599998</td>\n",
       "      <td>762.000000</td>\n",
       "      <td>770.070007</td>\n",
       "      <td>60.860001</td>\n",
       "    </tr>\n",
       "    <tr>\n",
       "      <th>2016-12-01</th>\n",
       "      <td>110.370003</td>\n",
       "      <td>752.409973</td>\n",
       "      <td>757.440002</td>\n",
       "      <td>60.110001</td>\n",
       "    </tr>\n",
       "    <tr>\n",
       "      <th>2016-12-02</th>\n",
       "      <td>109.169998</td>\n",
       "      <td>743.400024</td>\n",
       "      <td>744.590027</td>\n",
       "      <td>59.080002</td>\n",
       "    </tr>\n",
       "    <tr>\n",
       "      <th>2016-12-05</th>\n",
       "      <td>110.000000</td>\n",
       "      <td>745.000000</td>\n",
       "      <td>757.710022</td>\n",
       "      <td>59.700001</td>\n",
       "    </tr>\n",
       "    <tr>\n",
       "      <th>2016-12-06</th>\n",
       "      <td>109.500000</td>\n",
       "      <td>763.989990</td>\n",
       "      <td>764.729980</td>\n",
       "      <td>60.430000</td>\n",
       "    </tr>\n",
       "    <tr>\n",
       "      <th>2016-12-07</th>\n",
       "      <td>109.260002</td>\n",
       "      <td>764.549988</td>\n",
       "      <td>761.000000</td>\n",
       "      <td>60.009998</td>\n",
       "    </tr>\n",
       "    <tr>\n",
       "      <th>2016-12-08</th>\n",
       "      <td>110.860001</td>\n",
       "      <td>771.869995</td>\n",
       "      <td>772.479980</td>\n",
       "      <td>61.299999</td>\n",
       "    </tr>\n",
       "    <tr>\n",
       "      <th>2016-12-09</th>\n",
       "      <td>112.309998</td>\n",
       "      <td>770.000000</td>\n",
       "      <td>780.000000</td>\n",
       "      <td>61.180000</td>\n",
       "    </tr>\n",
       "    <tr>\n",
       "      <th>2016-12-12</th>\n",
       "      <td>113.290001</td>\n",
       "      <td>766.400024</td>\n",
       "      <td>785.039978</td>\n",
       "      <td>61.820000</td>\n",
       "    </tr>\n",
       "    <tr>\n",
       "      <th>2016-12-13</th>\n",
       "      <td>113.839996</td>\n",
       "      <td>764.960022</td>\n",
       "      <td>793.900024</td>\n",
       "      <td>62.500000</td>\n",
       "    </tr>\n",
       "    <tr>\n",
       "      <th>2016-12-14</th>\n",
       "      <td>115.040001</td>\n",
       "      <td>778.250000</td>\n",
       "      <td>797.400024</td>\n",
       "      <td>63.000000</td>\n",
       "    </tr>\n",
       "    <tr>\n",
       "      <th>2016-12-15</th>\n",
       "      <td>115.379997</td>\n",
       "      <td>766.280029</td>\n",
       "      <td>797.340027</td>\n",
       "      <td>62.700001</td>\n",
       "    </tr>\n",
       "    <tr>\n",
       "      <th>2016-12-16</th>\n",
       "      <td>116.470001</td>\n",
       "      <td>765.000000</td>\n",
       "      <td>800.400024</td>\n",
       "      <td>62.950001</td>\n",
       "    </tr>\n",
       "    <tr>\n",
       "      <th>2016-12-19</th>\n",
       "      <td>115.800003</td>\n",
       "      <td>758.890015</td>\n",
       "      <td>790.219971</td>\n",
       "      <td>62.560001</td>\n",
       "    </tr>\n",
       "    <tr>\n",
       "      <th>2016-12-20</th>\n",
       "      <td>116.739998</td>\n",
       "      <td>768.650024</td>\n",
       "      <td>796.760010</td>\n",
       "      <td>63.689999</td>\n",
       "    </tr>\n",
       "    <tr>\n",
       "      <th>2016-12-21</th>\n",
       "      <td>116.800003</td>\n",
       "      <td>770.000000</td>\n",
       "      <td>795.840027</td>\n",
       "      <td>63.430000</td>\n",
       "    </tr>\n",
       "    <tr>\n",
       "      <th>2016-12-22</th>\n",
       "      <td>116.349998</td>\n",
       "      <td>768.119995</td>\n",
       "      <td>792.359985</td>\n",
       "      <td>63.840000</td>\n",
       "    </tr>\n",
       "    <tr>\n",
       "      <th>2016-12-23</th>\n",
       "      <td>115.589996</td>\n",
       "      <td>764.549988</td>\n",
       "      <td>790.900024</td>\n",
       "      <td>63.450001</td>\n",
       "    </tr>\n",
       "    <tr>\n",
       "      <th>2016-12-27</th>\n",
       "      <td>116.519997</td>\n",
       "      <td>763.400024</td>\n",
       "      <td>790.679993</td>\n",
       "      <td>63.209999</td>\n",
       "    </tr>\n",
       "    <tr>\n",
       "      <th>2016-12-28</th>\n",
       "      <td>117.519997</td>\n",
       "      <td>776.250000</td>\n",
       "      <td>793.700012</td>\n",
       "      <td>63.400002</td>\n",
       "    </tr>\n",
       "    <tr>\n",
       "      <th>2016-12-29</th>\n",
       "      <td>116.449997</td>\n",
       "      <td>772.400024</td>\n",
       "      <td>783.330017</td>\n",
       "      <td>62.860001</td>\n",
       "    </tr>\n",
       "    <tr>\n",
       "      <th>2016-12-30</th>\n",
       "      <td>116.650002</td>\n",
       "      <td>766.469971</td>\n",
       "      <td>782.750000</td>\n",
       "      <td>62.959999</td>\n",
       "    </tr>\n",
       "  </tbody>\n",
       "</table>\n",
       "<p>1762 rows × 4 columns</p>\n",
       "</div>"
      ],
      "text/plain": [
       "Company           AAPL        AMZN        GOOG       MSFT\n",
       "Date                                                     \n",
       "2010-01-04   30.490000  136.250000  312.304413  30.620001\n",
       "2010-01-05   30.657143  133.429993  312.418976  30.850000\n",
       "2010-01-06   30.625713  134.600006  311.761444  30.879999\n",
       "2010-01-07   30.250000  132.009995  303.562164  30.629999\n",
       "2010-01-08   30.042856  130.559998  294.894653  30.280001\n",
       "2010-01-11   30.400000  132.619995  301.101410  30.709999\n",
       "2010-01-12   29.884285  128.990005  297.709106  30.150000\n",
       "2010-01-13   29.695715  127.900002  287.168610  30.260000\n",
       "2010-01-14   30.015715  129.139999  290.859772  30.309999\n",
       "2010-01-15   30.132856  129.179993  295.562164  31.080000\n",
       "2010-01-19   29.761429  126.309998  289.514832  30.750000\n",
       "2010-01-20   30.701429  127.129997  291.895905  30.809999\n",
       "2010-01-21   30.297142  127.260002  290.630646  30.610001\n",
       "2010-01-22   29.540001  125.599998  281.196014  30.000000\n",
       "2010-01-25   28.930000  122.099998  272.274445  29.240000\n",
       "2010-01-26   29.421429  120.559998  267.980530  29.200001\n",
       "2010-01-27   29.549999  121.029999  269.624390  29.350000\n",
       "2010-01-28   29.275715  124.430000  271.228363  29.840000\n",
       "2010-01-29   28.725714  129.770004  268.239563  29.900000\n",
       "2010-02-01   27.481428  123.180000  266.301849  28.389999\n",
       "2010-02-02   27.987143  118.790001  266.481171  28.370001\n",
       "2010-02-03   27.881428  117.120003  263.347900  28.260000\n",
       "2010-02-04   28.104286  118.639999  267.497345  28.379999\n",
       "2010-02-05   27.518572  115.879997  263.213409  28.000000\n",
       "2010-02-08   27.955715  119.379997  265.255768  28.010000\n",
       "2010-02-09   28.059999  118.199997  268.762604  27.969999\n",
       "2010-02-10   27.984285  118.000000  266.037811  28.030001\n",
       "2010-02-11   27.840000  117.209999  265.664215  27.930000\n",
       "2010-02-12   28.301428  118.989998  265.489868  27.809999\n",
       "2010-02-16   28.848572  120.059998  267.432587  28.129999\n",
       "...                ...         ...         ...        ...\n",
       "2016-11-17  109.809998  749.320007  766.919983  60.410000\n",
       "2016-11-18  109.720001  761.000000  771.369995  60.779999\n",
       "2016-11-21  110.120003  766.000000  762.609985  60.500000\n",
       "2016-11-22  111.949997  788.169983  772.630005  60.980000\n",
       "2016-11-23  111.360001  781.729980  767.729980  61.009998\n",
       "2016-11-25  111.129997  786.500000  764.260010  60.299999\n",
       "2016-11-28  111.430000  776.989990  760.000000  60.340000\n",
       "2016-11-29  110.779999  768.000000  771.530029  60.650002\n",
       "2016-11-30  111.599998  762.000000  770.070007  60.860001\n",
       "2016-12-01  110.370003  752.409973  757.440002  60.110001\n",
       "2016-12-02  109.169998  743.400024  744.590027  59.080002\n",
       "2016-12-05  110.000000  745.000000  757.710022  59.700001\n",
       "2016-12-06  109.500000  763.989990  764.729980  60.430000\n",
       "2016-12-07  109.260002  764.549988  761.000000  60.009998\n",
       "2016-12-08  110.860001  771.869995  772.479980  61.299999\n",
       "2016-12-09  112.309998  770.000000  780.000000  61.180000\n",
       "2016-12-12  113.290001  766.400024  785.039978  61.820000\n",
       "2016-12-13  113.839996  764.960022  793.900024  62.500000\n",
       "2016-12-14  115.040001  778.250000  797.400024  63.000000\n",
       "2016-12-15  115.379997  766.280029  797.340027  62.700001\n",
       "2016-12-16  116.470001  765.000000  800.400024  62.950001\n",
       "2016-12-19  115.800003  758.890015  790.219971  62.560001\n",
       "2016-12-20  116.739998  768.650024  796.760010  63.689999\n",
       "2016-12-21  116.800003  770.000000  795.840027  63.430000\n",
       "2016-12-22  116.349998  768.119995  792.359985  63.840000\n",
       "2016-12-23  115.589996  764.549988  790.900024  63.450001\n",
       "2016-12-27  116.519997  763.400024  790.679993  63.209999\n",
       "2016-12-28  117.519997  776.250000  793.700012  63.400002\n",
       "2016-12-29  116.449997  772.400024  783.330017  62.860001\n",
       "2016-12-30  116.650002  766.469971  782.750000  62.959999\n",
       "\n",
       "[1762 rows x 4 columns]"
      ]
     },
     "execution_count": 60,
     "metadata": {},
     "output_type": "execute_result"
    }
   ],
   "source": [
    "p['Open']   ## it extracts the 'Open' information(dataframe) across all stocks and all time\n",
    "## Usually bracket notation will extract the next smallest object(eg: dataframe use columns for bracket notation)\n",
    "## panel use items(dataframes) for bracket notation."
   ]
  },
  {
   "cell_type": "code",
   "execution_count": 74,
   "metadata": {
    "collapsed": false
   },
   "outputs": [
    {
     "data": {
      "text/html": [
       "<div>\n",
       "<style scoped>\n",
       "    .dataframe tbody tr th:only-of-type {\n",
       "        vertical-align: middle;\n",
       "    }\n",
       "\n",
       "    .dataframe tbody tr th {\n",
       "        vertical-align: top;\n",
       "    }\n",
       "\n",
       "    .dataframe thead th {\n",
       "        text-align: right;\n",
       "    }\n",
       "</style>\n",
       "<table border=\"1\" class=\"dataframe\">\n",
       "  <thead>\n",
       "    <tr style=\"text-align: right;\">\n",
       "      <th>Company</th>\n",
       "      <th>AAPL</th>\n",
       "      <th>AMZN</th>\n",
       "      <th>GOOG</th>\n",
       "      <th>MSFT</th>\n",
       "    </tr>\n",
       "    <tr>\n",
       "      <th>Date</th>\n",
       "      <th></th>\n",
       "      <th></th>\n",
       "      <th></th>\n",
       "      <th></th>\n",
       "    </tr>\n",
       "  </thead>\n",
       "  <tbody>\n",
       "    <tr>\n",
       "      <th>2010-01-04</th>\n",
       "      <td>123432400</td>\n",
       "      <td>7599900</td>\n",
       "      <td>3927000</td>\n",
       "      <td>38409100</td>\n",
       "    </tr>\n",
       "    <tr>\n",
       "      <th>2010-01-05</th>\n",
       "      <td>150476200</td>\n",
       "      <td>8851900</td>\n",
       "      <td>6031900</td>\n",
       "      <td>49749600</td>\n",
       "    </tr>\n",
       "    <tr>\n",
       "      <th>2010-01-06</th>\n",
       "      <td>138040000</td>\n",
       "      <td>7178800</td>\n",
       "      <td>7987100</td>\n",
       "      <td>58182400</td>\n",
       "    </tr>\n",
       "  </tbody>\n",
       "</table>\n",
       "</div>"
      ],
      "text/plain": [
       "Company          AAPL     AMZN     GOOG      MSFT\n",
       "Date                                             \n",
       "2010-01-04  123432400  7599900  3927000  38409100\n",
       "2010-01-05  150476200  8851900  6031900  49749600\n",
       "2010-01-06  138040000  7178800  7987100  58182400"
      ]
     },
     "execution_count": 74,
     "metadata": {},
     "output_type": "execute_result"
    }
   ],
   "source": [
    "p['Volume']  ## This is a new dataframe object which means all functions can be worked on this dataframe\n",
    "p['Volume']  ##  which is the same for p.Volume (use this to extract a dataframe), this only works when there is no space\n",
    "p['Volume'].head(3)"
   ]
  },
  {
   "cell_type": "markdown",
   "metadata": {
    "collapsed": true
   },
   "source": [
    "### Extracting with the .loc, iloc, and .ix Methods"
   ]
  },
  {
   "cell_type": "code",
   "execution_count": 113,
   "metadata": {
    "collapsed": false,
    "scrolled": false
   },
   "outputs": [
    {
     "data": {
      "text/html": [
       "<div>\n",
       "<style scoped>\n",
       "    .dataframe tbody tr th:only-of-type {\n",
       "        vertical-align: middle;\n",
       "    }\n",
       "\n",
       "    .dataframe tbody tr th {\n",
       "        vertical-align: top;\n",
       "    }\n",
       "\n",
       "    .dataframe thead th {\n",
       "        text-align: right;\n",
       "    }\n",
       "</style>\n",
       "<table border=\"1\" class=\"dataframe\">\n",
       "  <thead>\n",
       "    <tr style=\"text-align: right;\">\n",
       "      <th>Company</th>\n",
       "      <th>AAPL</th>\n",
       "      <th>AMZN</th>\n",
       "      <th>GOOG</th>\n",
       "    </tr>\n",
       "    <tr>\n",
       "      <th>Date</th>\n",
       "      <th></th>\n",
       "      <th></th>\n",
       "      <th></th>\n",
       "    </tr>\n",
       "  </thead>\n",
       "  <tbody>\n",
       "    <tr>\n",
       "      <th>2010-01-04</th>\n",
       "      <td>30.490000</td>\n",
       "      <td>136.250000</td>\n",
       "      <td>312.304413</td>\n",
       "    </tr>\n",
       "    <tr>\n",
       "      <th>2010-01-05</th>\n",
       "      <td>30.657143</td>\n",
       "      <td>133.429993</td>\n",
       "      <td>312.418976</td>\n",
       "    </tr>\n",
       "    <tr>\n",
       "      <th>2010-01-06</th>\n",
       "      <td>30.625713</td>\n",
       "      <td>134.600006</td>\n",
       "      <td>311.761444</td>\n",
       "    </tr>\n",
       "  </tbody>\n",
       "</table>\n",
       "</div>"
      ],
      "text/plain": [
       "Company          AAPL        AMZN        GOOG\n",
       "Date                                         \n",
       "2010-01-04  30.490000  136.250000  312.304413\n",
       "2010-01-05  30.657143  133.429993  312.418976\n",
       "2010-01-06  30.625713  134.600006  311.761444"
      ]
     },
     "execution_count": 113,
     "metadata": {},
     "output_type": "execute_result"
    }
   ],
   "source": [
    "p['Open'].loc['2010-01-01':'2010-01-06' , 'AAPL':'GOOG']"
   ]
  },
  {
   "cell_type": "code",
   "execution_count": 86,
   "metadata": {
    "collapsed": false
   },
   "outputs": [
    {
     "data": {
      "text/html": [
       "<div>\n",
       "<style scoped>\n",
       "    .dataframe tbody tr th:only-of-type {\n",
       "        vertical-align: middle;\n",
       "    }\n",
       "\n",
       "    .dataframe tbody tr th {\n",
       "        vertical-align: top;\n",
       "    }\n",
       "\n",
       "    .dataframe thead th {\n",
       "        text-align: right;\n",
       "    }\n",
       "</style>\n",
       "<table border=\"1\" class=\"dataframe\">\n",
       "  <thead>\n",
       "    <tr style=\"text-align: right;\">\n",
       "      <th>Company</th>\n",
       "      <th>AAPL</th>\n",
       "      <th>AMZN</th>\n",
       "      <th>GOOG</th>\n",
       "      <th>MSFT</th>\n",
       "    </tr>\n",
       "    <tr>\n",
       "      <th>Date</th>\n",
       "      <th></th>\n",
       "      <th></th>\n",
       "      <th></th>\n",
       "      <th></th>\n",
       "    </tr>\n",
       "  </thead>\n",
       "  <tbody>\n",
       "    <tr>\n",
       "      <th>2010-01-04</th>\n",
       "      <td>30.572857</td>\n",
       "      <td>133.899994</td>\n",
       "      <td>312.204773</td>\n",
       "      <td>30.950001</td>\n",
       "    </tr>\n",
       "    <tr>\n",
       "      <th>2010-01-05</th>\n",
       "      <td>30.625713</td>\n",
       "      <td>134.690002</td>\n",
       "      <td>310.829926</td>\n",
       "      <td>30.959999</td>\n",
       "    </tr>\n",
       "    <tr>\n",
       "      <th>2010-01-06</th>\n",
       "      <td>30.138571</td>\n",
       "      <td>132.250000</td>\n",
       "      <td>302.994293</td>\n",
       "      <td>30.770000</td>\n",
       "    </tr>\n",
       "  </tbody>\n",
       "</table>\n",
       "</div>"
      ],
      "text/plain": [
       "Company          AAPL        AMZN        GOOG       MSFT\n",
       "Date                                                    \n",
       "2010-01-04  30.572857  133.899994  312.204773  30.950001\n",
       "2010-01-05  30.625713  134.690002  310.829926  30.959999\n",
       "2010-01-06  30.138571  132.250000  302.994293  30.770000"
      ]
     },
     "execution_count": 86,
     "metadata": {},
     "output_type": "execute_result"
    }
   ],
   "source": [
    "## directly call .loc[] function on panel data, always extract the dataframe(item) first \n",
    "p.loc['Close'].head(3)"
   ]
  },
  {
   "cell_type": "code",
   "execution_count": 88,
   "metadata": {
    "collapsed": false
   },
   "outputs": [
    {
     "data": {
      "text/plain": [
       "553.380676"
      ]
     },
     "execution_count": 88,
     "metadata": {},
     "output_type": "execute_result"
    }
   ],
   "source": [
    "## panel.loc[item, major_axis, minor_axis], item, major_axis, minor_axis must be exists\n",
    "p.loc['Close', '2014-04-08','GOOG']  ## extract value"
   ]
  },
  {
   "cell_type": "code",
   "execution_count": 91,
   "metadata": {
    "collapsed": false
   },
   "outputs": [
    {
     "data": {
      "text/plain": [
       "25.1"
      ]
     },
     "execution_count": 91,
     "metadata": {},
     "output_type": "execute_result"
    }
   ],
   "source": [
    "p.iloc[3, 200, 3]  ## Microsoft Close price on 2010-10-20"
   ]
  },
  {
   "cell_type": "code",
   "execution_count": 92,
   "metadata": {
    "collapsed": false
   },
   "outputs": [
    {
     "name": "stderr",
     "output_type": "stream",
     "text": [
      "C:\\Anaconda3\\lib\\site-packages\\ipykernel\\__main__.py:1: DeprecationWarning: \n",
      ".ix is deprecated. Please use\n",
      ".loc for label based indexing or\n",
      ".iloc for positional indexing\n",
      "\n",
      "See the documentation here:\n",
      "http://pandas.pydata.org/pandas-docs/stable/indexing.html#ix-indexer-is-deprecated\n",
      "  if __name__ == '__main__':\n"
     ]
    },
    {
     "data": {
      "text/plain": [
       "321.041656"
      ]
     },
     "execution_count": 92,
     "metadata": {},
     "output_type": "execute_result"
    }
   ],
   "source": [
    "p.ix['High', 500, 'GOOG']"
   ]
  },
  {
   "cell_type": "markdown",
   "metadata": {
    "collapsed": true
   },
   "source": [
    "### Convert Panel to a MultiIndex DataFrame (and Vice Versa)"
   ]
  },
  {
   "cell_type": "code",
   "execution_count": 111,
   "metadata": {
    "collapsed": false
   },
   "outputs": [
    {
     "data": {
      "text/html": [
       "<div>\n",
       "<style scoped>\n",
       "    .dataframe tbody tr th:only-of-type {\n",
       "        vertical-align: middle;\n",
       "    }\n",
       "\n",
       "    .dataframe tbody tr th {\n",
       "        vertical-align: top;\n",
       "    }\n",
       "\n",
       "    .dataframe thead th {\n",
       "        text-align: right;\n",
       "    }\n",
       "</style>\n",
       "<table border=\"1\" class=\"dataframe\">\n",
       "  <thead>\n",
       "    <tr style=\"text-align: right;\">\n",
       "      <th></th>\n",
       "      <th></th>\n",
       "      <th>Open</th>\n",
       "      <th>High</th>\n",
       "      <th>Low</th>\n",
       "      <th>Close</th>\n",
       "      <th>Volume</th>\n",
       "    </tr>\n",
       "    <tr>\n",
       "      <th>Date</th>\n",
       "      <th>Company</th>\n",
       "      <th></th>\n",
       "      <th></th>\n",
       "      <th></th>\n",
       "      <th></th>\n",
       "      <th></th>\n",
       "    </tr>\n",
       "  </thead>\n",
       "  <tbody>\n",
       "    <tr>\n",
       "      <th rowspan=\"3\" valign=\"top\">2010-01-04</th>\n",
       "      <th>AAPL</th>\n",
       "      <td>30.490000</td>\n",
       "      <td>30.642857</td>\n",
       "      <td>30.340000</td>\n",
       "      <td>30.572857</td>\n",
       "      <td>123432400</td>\n",
       "    </tr>\n",
       "    <tr>\n",
       "      <th>AMZN</th>\n",
       "      <td>136.250000</td>\n",
       "      <td>136.610001</td>\n",
       "      <td>133.139999</td>\n",
       "      <td>133.899994</td>\n",
       "      <td>7599900</td>\n",
       "    </tr>\n",
       "    <tr>\n",
       "      <th>GOOG</th>\n",
       "      <td>312.304413</td>\n",
       "      <td>313.579620</td>\n",
       "      <td>310.954468</td>\n",
       "      <td>312.204773</td>\n",
       "      <td>3927000</td>\n",
       "    </tr>\n",
       "  </tbody>\n",
       "</table>\n",
       "</div>"
      ],
      "text/plain": [
       "                          Open        High         Low       Close     Volume\n",
       "Date       Company                                                           \n",
       "2010-01-04 AAPL      30.490000   30.642857   30.340000   30.572857  123432400\n",
       "           AMZN     136.250000  136.610001  133.139999  133.899994    7599900\n",
       "           GOOG     312.304413  313.579620  310.954468  312.204773    3927000"
      ]
     },
     "execution_count": 111,
     "metadata": {},
     "output_type": "execute_result"
    }
   ],
   "source": [
    "df = p.to_frame()\n",
    "## when .to_frame() function is called on panel, panel will be converted to a MultiIndex dataframe\n",
    "df.head(3)"
   ]
  },
  {
   "cell_type": "code",
   "execution_count": 100,
   "metadata": {
    "collapsed": false
   },
   "outputs": [
    {
     "name": "stderr",
     "output_type": "stream",
     "text": [
      "C:\\Anaconda3\\lib\\site-packages\\ipykernel\\__main__.py:1: FutureWarning: \n",
      "Panel is deprecated and will be removed in a future version.\n",
      "The recommended way to represent these types of 3-dimensional data are with a MultiIndex on a DataFrame, via the Panel.to_frame() method\n",
      "Alternatively, you can use the xarray package http://xarray.pydata.org/en/stable/.\n",
      "Pandas provides a `.to_xarray()` method to help automate this conversion.\n",
      "\n",
      "  if __name__ == '__main__':\n"
     ]
    },
    {
     "data": {
      "text/plain": [
       "<class 'pandas.core.panel.Panel'>\n",
       "Dimensions: 5 (items) x 1762 (major_axis) x 4 (minor_axis)\n",
       "Items axis: Open to Volume\n",
       "Major_axis axis: 2010-01-04 00:00:00 to 2016-12-30 00:00:00\n",
       "Minor_axis axis: AAPL to MSFT"
      ]
     },
     "execution_count": 100,
     "metadata": {},
     "output_type": "execute_result"
    }
   ],
   "source": [
    "p2 = df.to_panel()   ## convert a dataframe to panel object\n",
    "p2"
   ]
  },
  {
   "cell_type": "markdown",
   "metadata": {
    "collapsed": true
   },
   "source": [
    "### The .major_xs() Method"
   ]
  },
  {
   "cell_type": "code",
   "execution_count": 124,
   "metadata": {
    "collapsed": false
   },
   "outputs": [
    {
     "data": {
      "text/html": [
       "<div>\n",
       "<style scoped>\n",
       "    .dataframe tbody tr th:only-of-type {\n",
       "        vertical-align: middle;\n",
       "    }\n",
       "\n",
       "    .dataframe tbody tr th {\n",
       "        vertical-align: top;\n",
       "    }\n",
       "\n",
       "    .dataframe thead th {\n",
       "        text-align: right;\n",
       "    }\n",
       "</style>\n",
       "<table border=\"1\" class=\"dataframe\">\n",
       "  <thead>\n",
       "    <tr style=\"text-align: right;\">\n",
       "      <th></th>\n",
       "      <th>Open</th>\n",
       "      <th>High</th>\n",
       "      <th>Low</th>\n",
       "      <th>Close</th>\n",
       "      <th>Volume</th>\n",
       "    </tr>\n",
       "    <tr>\n",
       "      <th>Company</th>\n",
       "      <th></th>\n",
       "      <th></th>\n",
       "      <th></th>\n",
       "      <th></th>\n",
       "      <th></th>\n",
       "    </tr>\n",
       "  </thead>\n",
       "  <tbody>\n",
       "    <tr>\n",
       "      <th>AAPL</th>\n",
       "      <td>107.900002</td>\n",
       "      <td>108.300003</td>\n",
       "      <td>107.510002</td>\n",
       "      <td>107.699997</td>\n",
       "      <td>26880400</td>\n",
       "    </tr>\n",
       "    <tr>\n",
       "      <th>AMZN</th>\n",
       "      <td>774.039978</td>\n",
       "      <td>789.479980</td>\n",
       "      <td>770.219971</td>\n",
       "      <td>788.869995</td>\n",
       "      <td>3719800</td>\n",
       "    </tr>\n",
       "    <tr>\n",
       "      <th>GOOG</th>\n",
       "      <td>773.450012</td>\n",
       "      <td>782.000000</td>\n",
       "      <td>771.000000</td>\n",
       "      <td>780.080017</td>\n",
       "      <td>1442800</td>\n",
       "    </tr>\n",
       "    <tr>\n",
       "      <th>MSFT</th>\n",
       "      <td>57.779999</td>\n",
       "      <td>57.799999</td>\n",
       "      <td>57.209999</td>\n",
       "      <td>57.610001</td>\n",
       "      <td>16278400</td>\n",
       "    </tr>\n",
       "  </tbody>\n",
       "</table>\n",
       "</div>"
      ],
      "text/plain": [
       "               Open        High         Low       Close    Volume\n",
       "Company                                                          \n",
       "AAPL     107.900002  108.300003  107.510002  107.699997  26880400\n",
       "AMZN     774.039978  789.479980  770.219971  788.869995   3719800\n",
       "GOOG     773.450012  782.000000  771.000000  780.080017   1442800\n",
       "MSFT      57.779999   57.799999   57.209999   57.610001  16278400"
      ]
     },
     "execution_count": 124,
     "metadata": {},
     "output_type": "execute_result"
    }
   ],
   "source": [
    "## One way to extract dataframes from panel objects\n",
    "p.items\n",
    "p['Volume']\n",
    "## Another way: using .major_xs() function which compare with .major_axis attribute\n",
    "## .major_xs() function returns a dataframe based on a major axis key, minor_axis(panel) will become row index label, items become column headers\n",
    "p.major_xs('2016-09-06')  ## returns a dataframe cut out the major axis"
   ]
  },
  {
   "cell_type": "markdown",
   "metadata": {
    "collapsed": true
   },
   "source": [
    "### The .minor_xs() Method"
   ]
  },
  {
   "cell_type": "code",
   "execution_count": 121,
   "metadata": {
    "collapsed": false
   },
   "outputs": [
    {
     "data": {
      "text/html": [
       "<div>\n",
       "<style scoped>\n",
       "    .dataframe tbody tr th:only-of-type {\n",
       "        vertical-align: middle;\n",
       "    }\n",
       "\n",
       "    .dataframe tbody tr th {\n",
       "        vertical-align: top;\n",
       "    }\n",
       "\n",
       "    .dataframe thead th {\n",
       "        text-align: right;\n",
       "    }\n",
       "</style>\n",
       "<table border=\"1\" class=\"dataframe\">\n",
       "  <thead>\n",
       "    <tr style=\"text-align: right;\">\n",
       "      <th></th>\n",
       "      <th>Open</th>\n",
       "      <th>High</th>\n",
       "      <th>Low</th>\n",
       "      <th>Close</th>\n",
       "      <th>Volume</th>\n",
       "    </tr>\n",
       "    <tr>\n",
       "      <th>Date</th>\n",
       "      <th></th>\n",
       "      <th></th>\n",
       "      <th></th>\n",
       "      <th></th>\n",
       "      <th></th>\n",
       "    </tr>\n",
       "  </thead>\n",
       "  <tbody>\n",
       "    <tr>\n",
       "      <th>2010-01-04</th>\n",
       "      <td>30.490000</td>\n",
       "      <td>30.642857</td>\n",
       "      <td>30.340000</td>\n",
       "      <td>30.572857</td>\n",
       "      <td>123432400</td>\n",
       "    </tr>\n",
       "    <tr>\n",
       "      <th>2010-01-05</th>\n",
       "      <td>30.657143</td>\n",
       "      <td>30.798571</td>\n",
       "      <td>30.464285</td>\n",
       "      <td>30.625713</td>\n",
       "      <td>150476200</td>\n",
       "    </tr>\n",
       "    <tr>\n",
       "      <th>2010-01-06</th>\n",
       "      <td>30.625713</td>\n",
       "      <td>30.747143</td>\n",
       "      <td>30.107143</td>\n",
       "      <td>30.138571</td>\n",
       "      <td>138040000</td>\n",
       "    </tr>\n",
       "  </tbody>\n",
       "</table>\n",
       "</div>"
      ],
      "text/plain": [
       "                 Open       High        Low      Close     Volume\n",
       "Date                                                             \n",
       "2010-01-04  30.490000  30.642857  30.340000  30.572857  123432400\n",
       "2010-01-05  30.657143  30.798571  30.464285  30.625713  150476200\n",
       "2010-01-06  30.625713  30.747143  30.107143  30.138571  138040000"
      ]
     },
     "execution_count": 121,
     "metadata": {},
     "output_type": "execute_result"
    }
   ],
   "source": [
    "p.minor_xs('AAPL').head(3)  ## must put in valid values, check by .minor_axis or .major)_axis"
   ]
  },
  {
   "cell_type": "code",
   "execution_count": 116,
   "metadata": {
    "collapsed": false
   },
   "outputs": [
    {
     "data": {
      "text/html": [
       "<div>\n",
       "<style scoped>\n",
       "    .dataframe tbody tr th:only-of-type {\n",
       "        vertical-align: middle;\n",
       "    }\n",
       "\n",
       "    .dataframe tbody tr th {\n",
       "        vertical-align: top;\n",
       "    }\n",
       "\n",
       "    .dataframe thead th {\n",
       "        text-align: right;\n",
       "    }\n",
       "</style>\n",
       "<table border=\"1\" class=\"dataframe\">\n",
       "  <thead>\n",
       "    <tr style=\"text-align: right;\">\n",
       "      <th></th>\n",
       "      <th>Open</th>\n",
       "      <th>High</th>\n",
       "      <th>Low</th>\n",
       "      <th>Close</th>\n",
       "      <th>Volume</th>\n",
       "    </tr>\n",
       "    <tr>\n",
       "      <th>Date</th>\n",
       "      <th></th>\n",
       "      <th></th>\n",
       "      <th></th>\n",
       "      <th></th>\n",
       "      <th></th>\n",
       "    </tr>\n",
       "  </thead>\n",
       "  <tbody>\n",
       "    <tr>\n",
       "      <th>2010-01-04</th>\n",
       "      <td>312.304413</td>\n",
       "      <td>313.579620</td>\n",
       "      <td>310.954468</td>\n",
       "      <td>312.204773</td>\n",
       "      <td>3927000</td>\n",
       "    </tr>\n",
       "    <tr>\n",
       "      <th>2010-01-05</th>\n",
       "      <td>312.418976</td>\n",
       "      <td>312.747742</td>\n",
       "      <td>309.609497</td>\n",
       "      <td>310.829926</td>\n",
       "      <td>6031900</td>\n",
       "    </tr>\n",
       "  </tbody>\n",
       "</table>\n",
       "</div>"
      ],
      "text/plain": [
       "                  Open        High         Low       Close   Volume\n",
       "Date                                                               \n",
       "2010-01-04  312.304413  313.579620  310.954468  312.204773  3927000\n",
       "2010-01-05  312.418976  312.747742  309.609497  310.829926  6031900"
      ]
     },
     "execution_count": 116,
     "metadata": {},
     "output_type": "execute_result"
    }
   ],
   "source": [
    "p['Open']  ## cut out item \n",
    "p.items\n",
    "p.major_xs('2016-09-16')  ## cut out the major axis\n",
    "p.major_axis\n",
    "p.minor_xs('GOOG').head(2)  ## cut out the minor axis\n",
    "p.minor_axis"
   ]
  },
  {
   "cell_type": "markdown",
   "metadata": {
    "collapsed": true
   },
   "source": [
    "### Transpose a Panel with the .transpose() Method"
   ]
  },
  {
   "cell_type": "code",
   "execution_count": 129,
   "metadata": {
    "collapsed": false
   },
   "outputs": [
    {
     "data": {
      "text/plain": [
       "[Index(['Open', 'High', 'Low', 'Close', 'Volume'], dtype='object'),\n",
       " DatetimeIndex(['2010-01-04', '2010-01-05', '2010-01-06', '2010-01-07',\n",
       "                '2010-01-08', '2010-01-11', '2010-01-12', '2010-01-13',\n",
       "                '2010-01-14', '2010-01-15',\n",
       "                ...\n",
       "                '2016-12-16', '2016-12-19', '2016-12-20', '2016-12-21',\n",
       "                '2016-12-22', '2016-12-23', '2016-12-27', '2016-12-28',\n",
       "                '2016-12-29', '2016-12-30'],\n",
       "               dtype='datetime64[ns]', name='Date', length=1762, freq=None),\n",
       " Index(['AAPL', 'AMZN', 'GOOG', 'MSFT'], dtype='object', name='Company')]"
      ]
     },
     "execution_count": 129,
     "metadata": {},
     "output_type": "execute_result"
    }
   ],
   "source": [
    "## what if we want to sway the items(stock information) with the minor axis(companies)\n",
    "p.axes  ## items is index 0 position, datetime is index 1 position, companies is index 2 position\n",
    "## .transpose() function can be used to change the axies position to rebuild the structure of panel object "
   ]
  },
  {
   "cell_type": "code",
   "execution_count": 131,
   "metadata": {
    "collapsed": false
   },
   "outputs": [
    {
     "name": "stderr",
     "output_type": "stream",
     "text": [
      "C:\\Anaconda3\\lib\\site-packages\\pandas\\core\\panel.py:1287: FutureWarning: \n",
      "Panel is deprecated and will be removed in a future version.\n",
      "The recommended way to represent these types of 3-dimensional data are with a MultiIndex on a DataFrame, via the Panel.to_frame() method\n",
      "Alternatively, you can use the xarray package http://xarray.pydata.org/en/stable/.\n",
      "Pandas provides a `.to_xarray()` method to help automate this conversion.\n",
      "\n",
      "  return super(Panel, self).transpose(*axes, **kwargs)\n"
     ]
    },
    {
     "data": {
      "text/plain": [
       "<class 'pandas.core.panel.Panel'>\n",
       "Dimensions: 4 (items) x 1762 (major_axis) x 5 (minor_axis)\n",
       "Items axis: AAPL to MSFT\n",
       "Major_axis axis: 2010-01-04 00:00:00 to 2016-12-30 00:00:00\n",
       "Minor_axis axis: Open to Volume"
      ]
     },
     "execution_count": 131,
     "metadata": {},
     "output_type": "execute_result"
    }
   ],
   "source": [
    "p2 = p.transpose(2, 1, 0)   ## need to be reassign if we want it\n",
    "## .transpose() args in the sequence of wanted items, major axis and minor axis, lookup the index position of original axis\n",
    "p2"
   ]
  },
  {
   "cell_type": "code",
   "execution_count": 132,
   "metadata": {
    "collapsed": false
   },
   "outputs": [
    {
     "data": {
      "text/html": [
       "<div>\n",
       "<style scoped>\n",
       "    .dataframe tbody tr th:only-of-type {\n",
       "        vertical-align: middle;\n",
       "    }\n",
       "\n",
       "    .dataframe tbody tr th {\n",
       "        vertical-align: top;\n",
       "    }\n",
       "\n",
       "    .dataframe thead th {\n",
       "        text-align: right;\n",
       "    }\n",
       "</style>\n",
       "<table border=\"1\" class=\"dataframe\">\n",
       "  <thead>\n",
       "    <tr style=\"text-align: right;\">\n",
       "      <th></th>\n",
       "      <th>Open</th>\n",
       "      <th>High</th>\n",
       "      <th>Low</th>\n",
       "      <th>Close</th>\n",
       "      <th>Volume</th>\n",
       "    </tr>\n",
       "    <tr>\n",
       "      <th>Date</th>\n",
       "      <th></th>\n",
       "      <th></th>\n",
       "      <th></th>\n",
       "      <th></th>\n",
       "      <th></th>\n",
       "    </tr>\n",
       "  </thead>\n",
       "  <tbody>\n",
       "    <tr>\n",
       "      <th>2010-01-04</th>\n",
       "      <td>30.490000</td>\n",
       "      <td>30.642857</td>\n",
       "      <td>30.340000</td>\n",
       "      <td>30.572857</td>\n",
       "      <td>123432400.0</td>\n",
       "    </tr>\n",
       "    <tr>\n",
       "      <th>2010-01-05</th>\n",
       "      <td>30.657143</td>\n",
       "      <td>30.798571</td>\n",
       "      <td>30.464285</td>\n",
       "      <td>30.625713</td>\n",
       "      <td>150476200.0</td>\n",
       "    </tr>\n",
       "    <tr>\n",
       "      <th>2010-01-06</th>\n",
       "      <td>30.625713</td>\n",
       "      <td>30.747143</td>\n",
       "      <td>30.107143</td>\n",
       "      <td>30.138571</td>\n",
       "      <td>138040000.0</td>\n",
       "    </tr>\n",
       "  </tbody>\n",
       "</table>\n",
       "</div>"
      ],
      "text/plain": [
       "                 Open       High        Low      Close       Volume\n",
       "Date                                                               \n",
       "2010-01-04  30.490000  30.642857  30.340000  30.572857  123432400.0\n",
       "2010-01-05  30.657143  30.798571  30.464285  30.625713  150476200.0\n",
       "2010-01-06  30.625713  30.747143  30.107143  30.138571  138040000.0"
      ]
     },
     "execution_count": 132,
     "metadata": {},
     "output_type": "execute_result"
    }
   ],
   "source": [
    "p2['AAPL'].head(3)"
   ]
  },
  {
   "cell_type": "code",
   "execution_count": 133,
   "metadata": {
    "collapsed": false
   },
   "outputs": [
    {
     "data": {
      "text/html": [
       "<div>\n",
       "<style scoped>\n",
       "    .dataframe tbody tr th:only-of-type {\n",
       "        vertical-align: middle;\n",
       "    }\n",
       "\n",
       "    .dataframe tbody tr th {\n",
       "        vertical-align: top;\n",
       "    }\n",
       "\n",
       "    .dataframe thead th {\n",
       "        text-align: right;\n",
       "    }\n",
       "</style>\n",
       "<table border=\"1\" class=\"dataframe\">\n",
       "  <thead>\n",
       "    <tr style=\"text-align: right;\">\n",
       "      <th>Company</th>\n",
       "      <th>AAPL</th>\n",
       "      <th>AMZN</th>\n",
       "      <th>GOOG</th>\n",
       "      <th>MSFT</th>\n",
       "    </tr>\n",
       "  </thead>\n",
       "  <tbody>\n",
       "    <tr>\n",
       "      <th>Open</th>\n",
       "      <td>3.049000e+01</td>\n",
       "      <td>1.362500e+02</td>\n",
       "      <td>3.123044e+02</td>\n",
       "      <td>3.062000e+01</td>\n",
       "    </tr>\n",
       "    <tr>\n",
       "      <th>High</th>\n",
       "      <td>3.064286e+01</td>\n",
       "      <td>1.366100e+02</td>\n",
       "      <td>3.135796e+02</td>\n",
       "      <td>3.110000e+01</td>\n",
       "    </tr>\n",
       "    <tr>\n",
       "      <th>Low</th>\n",
       "      <td>3.034000e+01</td>\n",
       "      <td>1.331400e+02</td>\n",
       "      <td>3.109545e+02</td>\n",
       "      <td>3.059000e+01</td>\n",
       "    </tr>\n",
       "    <tr>\n",
       "      <th>Close</th>\n",
       "      <td>3.057286e+01</td>\n",
       "      <td>1.339000e+02</td>\n",
       "      <td>3.122048e+02</td>\n",
       "      <td>3.095000e+01</td>\n",
       "    </tr>\n",
       "    <tr>\n",
       "      <th>Volume</th>\n",
       "      <td>1.234324e+08</td>\n",
       "      <td>7.599900e+06</td>\n",
       "      <td>3.927000e+06</td>\n",
       "      <td>3.840910e+07</td>\n",
       "    </tr>\n",
       "  </tbody>\n",
       "</table>\n",
       "</div>"
      ],
      "text/plain": [
       "Company          AAPL          AMZN          GOOG          MSFT\n",
       "Open     3.049000e+01  1.362500e+02  3.123044e+02  3.062000e+01\n",
       "High     3.064286e+01  1.366100e+02  3.135796e+02  3.110000e+01\n",
       "Low      3.034000e+01  1.331400e+02  3.109545e+02  3.059000e+01\n",
       "Close    3.057286e+01  1.339000e+02  3.122048e+02  3.095000e+01\n",
       "Volume   1.234324e+08  7.599900e+06  3.927000e+06  3.840910e+07"
      ]
     },
     "execution_count": 133,
     "metadata": {},
     "output_type": "execute_result"
    }
   ],
   "source": [
    "p2.major_xs('2010-01-04')"
   ]
  },
  {
   "cell_type": "code",
   "execution_count": 135,
   "metadata": {
    "collapsed": false
   },
   "outputs": [
    {
     "data": {
      "text/html": [
       "<div>\n",
       "<style scoped>\n",
       "    .dataframe tbody tr th:only-of-type {\n",
       "        vertical-align: middle;\n",
       "    }\n",
       "\n",
       "    .dataframe tbody tr th {\n",
       "        vertical-align: top;\n",
       "    }\n",
       "\n",
       "    .dataframe thead th {\n",
       "        text-align: right;\n",
       "    }\n",
       "</style>\n",
       "<table border=\"1\" class=\"dataframe\">\n",
       "  <thead>\n",
       "    <tr style=\"text-align: right;\">\n",
       "      <th>Company</th>\n",
       "      <th>AAPL</th>\n",
       "      <th>AMZN</th>\n",
       "      <th>GOOG</th>\n",
       "      <th>MSFT</th>\n",
       "    </tr>\n",
       "    <tr>\n",
       "      <th>Date</th>\n",
       "      <th></th>\n",
       "      <th></th>\n",
       "      <th></th>\n",
       "      <th></th>\n",
       "    </tr>\n",
       "  </thead>\n",
       "  <tbody>\n",
       "    <tr>\n",
       "      <th>2010-01-04</th>\n",
       "      <td>123432400.0</td>\n",
       "      <td>7599900.0</td>\n",
       "      <td>3927000.0</td>\n",
       "      <td>38409100.0</td>\n",
       "    </tr>\n",
       "    <tr>\n",
       "      <th>2010-01-05</th>\n",
       "      <td>150476200.0</td>\n",
       "      <td>8851900.0</td>\n",
       "      <td>6031900.0</td>\n",
       "      <td>49749600.0</td>\n",
       "    </tr>\n",
       "    <tr>\n",
       "      <th>2010-01-06</th>\n",
       "      <td>138040000.0</td>\n",
       "      <td>7178800.0</td>\n",
       "      <td>7987100.0</td>\n",
       "      <td>58182400.0</td>\n",
       "    </tr>\n",
       "  </tbody>\n",
       "</table>\n",
       "</div>"
      ],
      "text/plain": [
       "Company            AAPL       AMZN       GOOG        MSFT\n",
       "Date                                                     \n",
       "2010-01-04  123432400.0  7599900.0  3927000.0  38409100.0\n",
       "2010-01-05  150476200.0  8851900.0  6031900.0  49749600.0\n",
       "2010-01-06  138040000.0  7178800.0  7987100.0  58182400.0"
      ]
     },
     "execution_count": 135,
     "metadata": {},
     "output_type": "execute_result"
    }
   ],
   "source": [
    "p2.minor_xs('Volume').head(3)"
   ]
  },
  {
   "cell_type": "markdown",
   "metadata": {
    "collapsed": true
   },
   "source": [
    "### The .swapaxes() Method"
   ]
  },
  {
   "cell_type": "code",
   "execution_count": 137,
   "metadata": {
    "collapsed": false
   },
   "outputs": [
    {
     "name": "stderr",
     "output_type": "stream",
     "text": [
      "C:\\Anaconda3\\lib\\site-packages\\ipykernel\\__main__.py:2: FutureWarning: \n",
      "Panel is deprecated and will be removed in a future version.\n",
      "The recommended way to represent these types of 3-dimensional data are with a MultiIndex on a DataFrame, via the Panel.to_frame() method\n",
      "Alternatively, you can use the xarray package http://xarray.pydata.org/en/stable/.\n",
      "Pandas provides a `.to_xarray()` method to help automate this conversion.\n",
      "\n",
      "  from ipykernel import kernelapp as app\n"
     ]
    },
    {
     "data": {
      "text/plain": [
       "<class 'pandas.core.panel.Panel'>\n",
       "Dimensions: 4 (items) x 1762 (major_axis) x 5 (minor_axis)\n",
       "Items axis: AAPL to MSFT\n",
       "Major_axis axis: 2010-01-04 00:00:00 to 2016-12-30 00:00:00\n",
       "Minor_axis axis: Open to Volume"
      ]
     },
     "execution_count": 137,
     "metadata": {},
     "output_type": "execute_result"
    }
   ],
   "source": [
    "## provide the names of the axis to the .swapaxes() function \n",
    "p2 = p.swapaxes('minor', 'items')\n",
    "p2"
   ]
  },
  {
   "cell_type": "code",
   "execution_count": 138,
   "metadata": {
    "collapsed": false
   },
   "outputs": [
    {
     "data": {
      "text/plain": [
       "[Index(['AAPL', 'AMZN', 'GOOG', 'MSFT'], dtype='object', name='Company'),\n",
       " DatetimeIndex(['2010-01-04', '2010-01-05', '2010-01-06', '2010-01-07',\n",
       "                '2010-01-08', '2010-01-11', '2010-01-12', '2010-01-13',\n",
       "                '2010-01-14', '2010-01-15',\n",
       "                ...\n",
       "                '2016-12-16', '2016-12-19', '2016-12-20', '2016-12-21',\n",
       "                '2016-12-22', '2016-12-23', '2016-12-27', '2016-12-28',\n",
       "                '2016-12-29', '2016-12-30'],\n",
       "               dtype='datetime64[ns]', name='Date', length=1762, freq=None),\n",
       " Index(['Open', 'High', 'Low', 'Close', 'Volume'], dtype='object')]"
      ]
     },
     "execution_count": 138,
     "metadata": {},
     "output_type": "execute_result"
    }
   ],
   "source": [
    "p2.axes"
   ]
  },
  {
   "cell_type": "code",
   "execution_count": 140,
   "metadata": {
    "collapsed": false
   },
   "outputs": [
    {
     "data": {
      "text/html": [
       "<div>\n",
       "<style scoped>\n",
       "    .dataframe tbody tr th:only-of-type {\n",
       "        vertical-align: middle;\n",
       "    }\n",
       "\n",
       "    .dataframe tbody tr th {\n",
       "        vertical-align: top;\n",
       "    }\n",
       "\n",
       "    .dataframe thead th {\n",
       "        text-align: right;\n",
       "    }\n",
       "</style>\n",
       "<table border=\"1\" class=\"dataframe\">\n",
       "  <thead>\n",
       "    <tr style=\"text-align: right;\">\n",
       "      <th></th>\n",
       "      <th>Open</th>\n",
       "      <th>High</th>\n",
       "      <th>Low</th>\n",
       "      <th>Close</th>\n",
       "      <th>Volume</th>\n",
       "    </tr>\n",
       "    <tr>\n",
       "      <th>Date</th>\n",
       "      <th></th>\n",
       "      <th></th>\n",
       "      <th></th>\n",
       "      <th></th>\n",
       "      <th></th>\n",
       "    </tr>\n",
       "  </thead>\n",
       "  <tbody>\n",
       "    <tr>\n",
       "      <th>2010-01-04</th>\n",
       "      <td>30.620001</td>\n",
       "      <td>31.10</td>\n",
       "      <td>30.590000</td>\n",
       "      <td>30.950001</td>\n",
       "      <td>38409100.0</td>\n",
       "    </tr>\n",
       "    <tr>\n",
       "      <th>2010-01-05</th>\n",
       "      <td>30.850000</td>\n",
       "      <td>31.10</td>\n",
       "      <td>30.639999</td>\n",
       "      <td>30.959999</td>\n",
       "      <td>49749600.0</td>\n",
       "    </tr>\n",
       "    <tr>\n",
       "      <th>2010-01-06</th>\n",
       "      <td>30.879999</td>\n",
       "      <td>31.08</td>\n",
       "      <td>30.520000</td>\n",
       "      <td>30.770000</td>\n",
       "      <td>58182400.0</td>\n",
       "    </tr>\n",
       "  </tbody>\n",
       "</table>\n",
       "</div>"
      ],
      "text/plain": [
       "                 Open   High        Low      Close      Volume\n",
       "Date                                                          \n",
       "2010-01-04  30.620001  31.10  30.590000  30.950001  38409100.0\n",
       "2010-01-05  30.850000  31.10  30.639999  30.959999  49749600.0\n",
       "2010-01-06  30.879999  31.08  30.520000  30.770000  58182400.0"
      ]
     },
     "execution_count": 140,
     "metadata": {},
     "output_type": "execute_result"
    }
   ],
   "source": [
    "p2['MSFT'].head(3)"
   ]
  },
  {
   "cell_type": "code",
   "execution_count": 141,
   "metadata": {
    "collapsed": false
   },
   "outputs": [
    {
     "data": {
      "text/html": [
       "<div>\n",
       "<style scoped>\n",
       "    .dataframe tbody tr th:only-of-type {\n",
       "        vertical-align: middle;\n",
       "    }\n",
       "\n",
       "    .dataframe tbody tr th {\n",
       "        vertical-align: top;\n",
       "    }\n",
       "\n",
       "    .dataframe thead th {\n",
       "        text-align: right;\n",
       "    }\n",
       "</style>\n",
       "<table border=\"1\" class=\"dataframe\">\n",
       "  <thead>\n",
       "    <tr style=\"text-align: right;\">\n",
       "      <th>Company</th>\n",
       "      <th>AAPL</th>\n",
       "      <th>AMZN</th>\n",
       "      <th>GOOG</th>\n",
       "      <th>MSFT</th>\n",
       "    </tr>\n",
       "  </thead>\n",
       "  <tbody>\n",
       "    <tr>\n",
       "      <th>Open</th>\n",
       "      <td>1.077000e+02</td>\n",
       "      <td>7.741100e+02</td>\n",
       "      <td>7.730100e+02</td>\n",
       "      <td>5.767000e+01</td>\n",
       "    </tr>\n",
       "    <tr>\n",
       "      <th>High</th>\n",
       "      <td>1.080000e+02</td>\n",
       "      <td>7.760000e+02</td>\n",
       "      <td>7.739200e+02</td>\n",
       "      <td>5.819000e+01</td>\n",
       "    </tr>\n",
       "    <tr>\n",
       "      <th>Low</th>\n",
       "      <td>1.068200e+02</td>\n",
       "      <td>7.717000e+02</td>\n",
       "      <td>7.684100e+02</td>\n",
       "      <td>5.742000e+01</td>\n",
       "    </tr>\n",
       "    <tr>\n",
       "      <th>Close</th>\n",
       "      <td>1.077300e+02</td>\n",
       "      <td>7.724400e+02</td>\n",
       "      <td>7.714600e+02</td>\n",
       "      <td>5.767000e+01</td>\n",
       "    </tr>\n",
       "    <tr>\n",
       "      <th>Volume</th>\n",
       "      <td>2.680250e+07</td>\n",
       "      <td>2.181800e+06</td>\n",
       "      <td>1.072700e+06</td>\n",
       "      <td>1.890050e+07</td>\n",
       "    </tr>\n",
       "  </tbody>\n",
       "</table>\n",
       "</div>"
      ],
      "text/plain": [
       "Company          AAPL          AMZN          GOOG          MSFT\n",
       "Open     1.077000e+02  7.741100e+02  7.730100e+02  5.767000e+01\n",
       "High     1.080000e+02  7.760000e+02  7.739200e+02  5.819000e+01\n",
       "Low      1.068200e+02  7.717000e+02  7.684100e+02  5.742000e+01\n",
       "Close    1.077300e+02  7.724400e+02  7.714600e+02  5.767000e+01\n",
       "Volume   2.680250e+07  2.181800e+06  1.072700e+06  1.890050e+07"
      ]
     },
     "execution_count": 141,
     "metadata": {},
     "output_type": "execute_result"
    }
   ],
   "source": [
    "p2.major_xs('2016-09-02')"
   ]
  },
  {
   "cell_type": "code",
   "execution_count": 143,
   "metadata": {
    "collapsed": false
   },
   "outputs": [
    {
     "data": {
      "text/html": [
       "<div>\n",
       "<style scoped>\n",
       "    .dataframe tbody tr th:only-of-type {\n",
       "        vertical-align: middle;\n",
       "    }\n",
       "\n",
       "    .dataframe tbody tr th {\n",
       "        vertical-align: top;\n",
       "    }\n",
       "\n",
       "    .dataframe thead th {\n",
       "        text-align: right;\n",
       "    }\n",
       "</style>\n",
       "<table border=\"1\" class=\"dataframe\">\n",
       "  <thead>\n",
       "    <tr style=\"text-align: right;\">\n",
       "      <th>Company</th>\n",
       "      <th>AAPL</th>\n",
       "      <th>AMZN</th>\n",
       "      <th>GOOG</th>\n",
       "      <th>MSFT</th>\n",
       "    </tr>\n",
       "    <tr>\n",
       "      <th>Date</th>\n",
       "      <th></th>\n",
       "      <th></th>\n",
       "      <th></th>\n",
       "      <th></th>\n",
       "    </tr>\n",
       "  </thead>\n",
       "  <tbody>\n",
       "    <tr>\n",
       "      <th>2010-01-04</th>\n",
       "      <td>30.572857</td>\n",
       "      <td>133.899994</td>\n",
       "      <td>312.204773</td>\n",
       "      <td>30.950001</td>\n",
       "    </tr>\n",
       "    <tr>\n",
       "      <th>2010-01-05</th>\n",
       "      <td>30.625713</td>\n",
       "      <td>134.690002</td>\n",
       "      <td>310.829926</td>\n",
       "      <td>30.959999</td>\n",
       "    </tr>\n",
       "    <tr>\n",
       "      <th>2010-01-06</th>\n",
       "      <td>30.138571</td>\n",
       "      <td>132.250000</td>\n",
       "      <td>302.994293</td>\n",
       "      <td>30.770000</td>\n",
       "    </tr>\n",
       "  </tbody>\n",
       "</table>\n",
       "</div>"
      ],
      "text/plain": [
       "Company          AAPL        AMZN        GOOG       MSFT\n",
       "Date                                                    \n",
       "2010-01-04  30.572857  133.899994  312.204773  30.950001\n",
       "2010-01-05  30.625713  134.690002  310.829926  30.959999\n",
       "2010-01-06  30.138571  132.250000  302.994293  30.770000"
      ]
     },
     "execution_count": 143,
     "metadata": {},
     "output_type": "execute_result"
    }
   ],
   "source": [
    "p2.minor_xs('Close').head(3)"
   ]
  },
  {
   "cell_type": "code",
   "execution_count": null,
   "metadata": {
    "collapsed": true
   },
   "outputs": [],
   "source": []
  },
  {
   "cell_type": "code",
   "execution_count": null,
   "metadata": {
    "collapsed": true
   },
   "outputs": [],
   "source": []
  },
  {
   "cell_type": "code",
   "execution_count": null,
   "metadata": {
    "collapsed": true
   },
   "outputs": [],
   "source": []
  },
  {
   "cell_type": "code",
   "execution_count": null,
   "metadata": {
    "collapsed": true
   },
   "outputs": [],
   "source": []
  },
  {
   "cell_type": "code",
   "execution_count": null,
   "metadata": {
    "collapsed": true
   },
   "outputs": [],
   "source": []
  },
  {
   "cell_type": "code",
   "execution_count": null,
   "metadata": {
    "collapsed": true
   },
   "outputs": [],
   "source": []
  },
  {
   "cell_type": "code",
   "execution_count": null,
   "metadata": {
    "collapsed": true
   },
   "outputs": [],
   "source": []
  },
  {
   "cell_type": "code",
   "execution_count": null,
   "metadata": {
    "collapsed": true
   },
   "outputs": [],
   "source": []
  },
  {
   "cell_type": "code",
   "execution_count": null,
   "metadata": {
    "collapsed": true
   },
   "outputs": [],
   "source": []
  },
  {
   "cell_type": "code",
   "execution_count": null,
   "metadata": {
    "collapsed": true
   },
   "outputs": [],
   "source": []
  },
  {
   "cell_type": "code",
   "execution_count": null,
   "metadata": {
    "collapsed": true
   },
   "outputs": [],
   "source": []
  },
  {
   "cell_type": "code",
   "execution_count": null,
   "metadata": {
    "collapsed": true
   },
   "outputs": [],
   "source": []
  },
  {
   "cell_type": "code",
   "execution_count": null,
   "metadata": {
    "collapsed": true
   },
   "outputs": [],
   "source": []
  },
  {
   "cell_type": "code",
   "execution_count": null,
   "metadata": {
    "collapsed": true
   },
   "outputs": [],
   "source": []
  },
  {
   "cell_type": "code",
   "execution_count": null,
   "metadata": {
    "collapsed": true
   },
   "outputs": [],
   "source": []
  },
  {
   "cell_type": "code",
   "execution_count": null,
   "metadata": {
    "collapsed": true
   },
   "outputs": [],
   "source": []
  },
  {
   "cell_type": "code",
   "execution_count": null,
   "metadata": {
    "collapsed": true
   },
   "outputs": [],
   "source": []
  },
  {
   "cell_type": "code",
   "execution_count": null,
   "metadata": {
    "collapsed": true
   },
   "outputs": [],
   "source": []
  },
  {
   "cell_type": "code",
   "execution_count": null,
   "metadata": {
    "collapsed": true
   },
   "outputs": [],
   "source": []
  },
  {
   "cell_type": "code",
   "execution_count": null,
   "metadata": {
    "collapsed": true
   },
   "outputs": [],
   "source": []
  },
  {
   "cell_type": "code",
   "execution_count": null,
   "metadata": {
    "collapsed": true
   },
   "outputs": [],
   "source": []
  },
  {
   "cell_type": "code",
   "execution_count": null,
   "metadata": {
    "collapsed": true
   },
   "outputs": [],
   "source": []
  },
  {
   "cell_type": "code",
   "execution_count": null,
   "metadata": {
    "collapsed": true
   },
   "outputs": [],
   "source": []
  },
  {
   "cell_type": "code",
   "execution_count": null,
   "metadata": {
    "collapsed": true
   },
   "outputs": [],
   "source": []
  },
  {
   "cell_type": "code",
   "execution_count": null,
   "metadata": {
    "collapsed": true
   },
   "outputs": [],
   "source": []
  },
  {
   "cell_type": "code",
   "execution_count": null,
   "metadata": {
    "collapsed": true
   },
   "outputs": [],
   "source": []
  },
  {
   "cell_type": "code",
   "execution_count": null,
   "metadata": {
    "collapsed": true
   },
   "outputs": [],
   "source": []
  },
  {
   "cell_type": "code",
   "execution_count": null,
   "metadata": {
    "collapsed": true
   },
   "outputs": [],
   "source": []
  },
  {
   "cell_type": "code",
   "execution_count": null,
   "metadata": {
    "collapsed": true
   },
   "outputs": [],
   "source": []
  },
  {
   "cell_type": "code",
   "execution_count": null,
   "metadata": {
    "collapsed": true
   },
   "outputs": [],
   "source": []
  },
  {
   "cell_type": "code",
   "execution_count": null,
   "metadata": {
    "collapsed": true
   },
   "outputs": [],
   "source": []
  },
  {
   "cell_type": "code",
   "execution_count": null,
   "metadata": {
    "collapsed": true
   },
   "outputs": [],
   "source": []
  },
  {
   "cell_type": "code",
   "execution_count": null,
   "metadata": {
    "collapsed": true
   },
   "outputs": [],
   "source": []
  },
  {
   "cell_type": "code",
   "execution_count": null,
   "metadata": {
    "collapsed": true
   },
   "outputs": [],
   "source": []
  },
  {
   "cell_type": "code",
   "execution_count": null,
   "metadata": {
    "collapsed": true
   },
   "outputs": [],
   "source": []
  },
  {
   "cell_type": "code",
   "execution_count": null,
   "metadata": {
    "collapsed": true
   },
   "outputs": [],
   "source": []
  },
  {
   "cell_type": "code",
   "execution_count": null,
   "metadata": {
    "collapsed": true
   },
   "outputs": [],
   "source": []
  },
  {
   "cell_type": "code",
   "execution_count": null,
   "metadata": {
    "collapsed": true
   },
   "outputs": [],
   "source": []
  },
  {
   "cell_type": "code",
   "execution_count": null,
   "metadata": {
    "collapsed": true
   },
   "outputs": [],
   "source": []
  },
  {
   "cell_type": "code",
   "execution_count": null,
   "metadata": {
    "collapsed": true
   },
   "outputs": [],
   "source": []
  },
  {
   "cell_type": "code",
   "execution_count": null,
   "metadata": {
    "collapsed": true
   },
   "outputs": [],
   "source": []
  },
  {
   "cell_type": "code",
   "execution_count": null,
   "metadata": {
    "collapsed": true
   },
   "outputs": [],
   "source": []
  },
  {
   "cell_type": "code",
   "execution_count": null,
   "metadata": {
    "collapsed": true
   },
   "outputs": [],
   "source": []
  },
  {
   "cell_type": "code",
   "execution_count": null,
   "metadata": {
    "collapsed": true
   },
   "outputs": [],
   "source": []
  },
  {
   "cell_type": "code",
   "execution_count": null,
   "metadata": {
    "collapsed": true
   },
   "outputs": [],
   "source": []
  },
  {
   "cell_type": "code",
   "execution_count": null,
   "metadata": {
    "collapsed": true
   },
   "outputs": [],
   "source": []
  },
  {
   "cell_type": "code",
   "execution_count": null,
   "metadata": {
    "collapsed": true
   },
   "outputs": [],
   "source": []
  },
  {
   "cell_type": "code",
   "execution_count": null,
   "metadata": {
    "collapsed": true
   },
   "outputs": [],
   "source": []
  },
  {
   "cell_type": "code",
   "execution_count": null,
   "metadata": {
    "collapsed": true
   },
   "outputs": [],
   "source": []
  },
  {
   "cell_type": "code",
   "execution_count": null,
   "metadata": {
    "collapsed": true
   },
   "outputs": [],
   "source": []
  },
  {
   "cell_type": "code",
   "execution_count": null,
   "metadata": {
    "collapsed": true
   },
   "outputs": [],
   "source": []
  },
  {
   "cell_type": "code",
   "execution_count": null,
   "metadata": {
    "collapsed": true
   },
   "outputs": [],
   "source": []
  },
  {
   "cell_type": "code",
   "execution_count": null,
   "metadata": {
    "collapsed": true
   },
   "outputs": [],
   "source": []
  },
  {
   "cell_type": "code",
   "execution_count": null,
   "metadata": {
    "collapsed": true
   },
   "outputs": [],
   "source": []
  },
  {
   "cell_type": "code",
   "execution_count": null,
   "metadata": {
    "collapsed": true
   },
   "outputs": [],
   "source": []
  },
  {
   "cell_type": "code",
   "execution_count": null,
   "metadata": {
    "collapsed": true
   },
   "outputs": [],
   "source": []
  },
  {
   "cell_type": "code",
   "execution_count": null,
   "metadata": {
    "collapsed": true
   },
   "outputs": [],
   "source": []
  },
  {
   "cell_type": "code",
   "execution_count": null,
   "metadata": {
    "collapsed": true
   },
   "outputs": [],
   "source": []
  },
  {
   "cell_type": "code",
   "execution_count": null,
   "metadata": {
    "collapsed": true
   },
   "outputs": [],
   "source": []
  },
  {
   "cell_type": "code",
   "execution_count": null,
   "metadata": {
    "collapsed": true
   },
   "outputs": [],
   "source": []
  },
  {
   "cell_type": "code",
   "execution_count": null,
   "metadata": {
    "collapsed": true
   },
   "outputs": [],
   "source": []
  },
  {
   "cell_type": "code",
   "execution_count": null,
   "metadata": {
    "collapsed": true
   },
   "outputs": [],
   "source": []
  },
  {
   "cell_type": "code",
   "execution_count": null,
   "metadata": {
    "collapsed": true
   },
   "outputs": [],
   "source": []
  },
  {
   "cell_type": "code",
   "execution_count": null,
   "metadata": {
    "collapsed": true
   },
   "outputs": [],
   "source": []
  },
  {
   "cell_type": "code",
   "execution_count": null,
   "metadata": {
    "collapsed": true
   },
   "outputs": [],
   "source": []
  },
  {
   "cell_type": "code",
   "execution_count": null,
   "metadata": {
    "collapsed": true
   },
   "outputs": [],
   "source": []
  },
  {
   "cell_type": "code",
   "execution_count": null,
   "metadata": {
    "collapsed": true
   },
   "outputs": [],
   "source": []
  },
  {
   "cell_type": "code",
   "execution_count": null,
   "metadata": {
    "collapsed": true
   },
   "outputs": [],
   "source": []
  },
  {
   "cell_type": "code",
   "execution_count": null,
   "metadata": {
    "collapsed": true
   },
   "outputs": [],
   "source": []
  },
  {
   "cell_type": "code",
   "execution_count": null,
   "metadata": {
    "collapsed": true
   },
   "outputs": [],
   "source": []
  },
  {
   "cell_type": "code",
   "execution_count": null,
   "metadata": {
    "collapsed": true
   },
   "outputs": [],
   "source": []
  },
  {
   "cell_type": "code",
   "execution_count": null,
   "metadata": {
    "collapsed": true
   },
   "outputs": [],
   "source": []
  },
  {
   "cell_type": "code",
   "execution_count": null,
   "metadata": {
    "collapsed": true
   },
   "outputs": [],
   "source": []
  },
  {
   "cell_type": "code",
   "execution_count": null,
   "metadata": {
    "collapsed": true
   },
   "outputs": [],
   "source": []
  },
  {
   "cell_type": "code",
   "execution_count": null,
   "metadata": {
    "collapsed": true
   },
   "outputs": [],
   "source": []
  },
  {
   "cell_type": "code",
   "execution_count": null,
   "metadata": {
    "collapsed": true
   },
   "outputs": [],
   "source": []
  },
  {
   "cell_type": "code",
   "execution_count": null,
   "metadata": {
    "collapsed": true
   },
   "outputs": [],
   "source": []
  },
  {
   "cell_type": "code",
   "execution_count": null,
   "metadata": {
    "collapsed": true
   },
   "outputs": [],
   "source": []
  },
  {
   "cell_type": "code",
   "execution_count": null,
   "metadata": {
    "collapsed": true
   },
   "outputs": [],
   "source": []
  },
  {
   "cell_type": "code",
   "execution_count": null,
   "metadata": {
    "collapsed": true
   },
   "outputs": [],
   "source": []
  }
 ],
 "metadata": {
  "kernelspec": {
   "display_name": "Python 3",
   "language": "python",
   "name": "python3"
  },
  "language_info": {
   "codemirror_mode": {
    "name": "ipython",
    "version": 3
   },
   "file_extension": ".py",
   "mimetype": "text/x-python",
   "name": "python",
   "nbconvert_exporter": "python",
   "pygments_lexer": "ipython3",
   "version": "3.6.0"
  }
 },
 "nbformat": 4,
 "nbformat_minor": 2
}
